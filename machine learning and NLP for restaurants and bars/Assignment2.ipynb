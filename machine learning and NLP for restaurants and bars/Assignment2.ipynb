{
 "cells": [
  {
   "cell_type": "markdown",
   "metadata": {},
   "source": [
    " ### This Assignment is being conducted by Yichen Wang and Scott Curtis - COMP47670 Data Science in Python"
   ]
  },
  {
   "cell_type": "code",
   "execution_count": 1,
   "metadata": {},
   "outputs": [],
   "source": [
    "import numpy as np\n",
    "import pandas as pd\n",
    "import seaborn as sns\n",
    "import matplotlib\n",
    "import matplotlib.pyplot as plt\n",
    "%matplotlib inline"
   ]
  },
  {
   "cell_type": "code",
   "execution_count": 2,
   "metadata": {},
   "outputs": [],
   "source": [
    "from bs4 import BeautifulSoup\n",
    "import requests"
   ]
  },
  {
   "cell_type": "markdown",
   "metadata": {},
   "source": [
    "# (I)Scraping the data(choosing the bars and restaurants reviews)"
   ]
  },
  {
   "cell_type": "markdown",
   "metadata": {},
   "source": [
    "### get the name of the bars and their link"
   ]
  },
  {
   "cell_type": "code",
   "execution_count": 3,
   "metadata": {},
   "outputs": [
    {
     "name": "stdout",
     "output_type": "stream",
     "text": [
      "[\"Applebee's Neighborhood Grill & Bar\", 'Bar George', 'Barrel Grill & Modern Saloon', 'Blaqcat Ultra Hookah Lounge', 'Blu Burger Grille', 'Boca Taqueria', 'Boondocks Patio & Grill', 'Boston Pizza', 'Buck & Badger', 'Buffalo Wild Wings', 'Cabin Fever', 'California Pizza Kitchen at Summerlin', \"Chalker's Pub Billiards & Bistro\", \"Chili's\", 'Condado Tacos', 'Dark Horse Sports Bar & Grill', 'Ellis Island Hotel, Casino & Brewery', 'Fly 2.0', 'Furco', 'Game Time Sports Grill', 'George & Dragon II English Restaurant Pub', 'Goldwater Brewing', \"Gray's Tied House\", 'JangBang Bar&Grill', \"Jodi B's Restaurant\", 'Kirks Korner', 'La PiÃ±ata', 'Latitude 360', 'Laziza Hookah Lounge & Restaurant', 'Le Diner Frunchroom', \"Let's Be Frank\", \"Mac's Speed Shop\", 'Midtown', 'Outback Steakhouse', 'Paloma Family Restaurant', 'Park Place Pub', \"Pepper's Cafe\", 'Piazza Lounge', 'Pireas', 'Primanti Bros', 'Primo Tuscan Grille', 'Roma Italian Restaurant and Pizzeria', 'Saltlik Calgary', 'Scorpion Bay Grill', \"Scruffy Murphy's Irish Pub & Restaurant\", 'Scullery', 'Shamrock Bar & Grille', 'Sotto', 'St. Louis Bar & Grill', 'Station HO.ST', 'Sundance 608', 'TRH-Bar', 'Texas Land & Cattle', 'Thai Basil Signature', 'The Berwick Public House', 'The Blind Pig', 'The Dillinger', 'The Duchess of Markham', 'The Fox & Fiddle', 'The Great Dane', 'The Keg Steakhouse + Bar - Pointe-Claire', 'The Wine Spot', 'Tuck Shop', 'Twin Oaks Lounge', 'Village Martini & Wine Bar', 'Walnut Grill-Wexford', 'Yucca Tap Room', 'Zen Culinary']\n",
      "['reviews_lU0OdZrzNmLuU7SGvONYiQ.html', 'reviews_k2a0B5nlT3V9zzVrpgcGeQ.html', 'reviews_xxelcbat6roueQvnk3TRmA.html', 'reviews_hFT3HuxVZJb1uYEsYfp-0A.html', 'reviews_PMH637woNo9ojZWxPLVULw.html', 'reviews_KBxus2mJ-AB97eYnIX7Srg.html', 'reviews_PJerxJc0SN9h6hXlqSQc5w.html', 'reviews_iE2GBLT00db-qEHye-Jztg.html', 'reviews_NJ4S3JX56JEZGWlAfpF9kw.html', 'reviews_mtWFEF2yTAALgBKZPuxkGw.html', 'reviews_-n27mJ_jQWGCuIukTvg9Mg.html', 'reviews_JhRxDdmZSGDG_u7cGxaYrw.html', 'reviews_ftqncUx1y6Otpvz78H9WhQ.html', 'reviews_e79I3sSDUCrsfpKPvwnAsg.html', 'reviews_gldPX9ANF5Nic0N7igu2og.html', 'reviews_bjwK290Ln0FCE-XEBoOMig.html', 'reviews_EAwh1OmG6t6p3nRaZOW_AA.html', 'reviews_zJbG2W-mvEIBt2y56JhHRA.html', 'reviews_lLaX4U3_IfiWIFDqv78dcA.html', 'reviews_YIpwSFLkb1geFIXyqh62rQ.html', 'reviews_US0ZdkGe5Fv1lLczbKYJoA.html', 'reviews_smx4rjWRtbkE656F7fE7rA.html', 'reviews_uLnPW9K1yhNpgzvodCumbQ.html', 'reviews_VN5D_k5i2MLyliuGAiCOxQ.html', 'reviews_hsVjfLehMqpXk7DBmOUJJw.html', 'reviews_yB3v-Ad3ILCdw8Wpe4h3WQ.html', 'reviews_333W59XcrXZsJlnBAAx5mQ.html', 'reviews_yU_z2d0TnLBBFEEYMYhKJA.html', 'reviews_gtWaCpu7mgRR-839S9oGBQ.html', 'reviews_XFdS4GgrgFsuyyrQZp8jMw.html', 'reviews_MT-uG_MfMSJK5U7s_rL5Vw.html', 'reviews_FEDJzSlA34EJ8ypqMWgVew.html', 'reviews_rLMsz9ams_xrlX_weejhtQ.html', 'reviews_7hsi2ob7wOORBj5Pa2199Q.html', 'reviews_u4srHKh5fWAqhy4XMgjUBw.html', 'reviews_yGfmwUKrZG4O2eNXP2JS1g.html', 'reviews_7-Pb3DdCD39RJ4ZSxG_7-g.html', 'reviews_LYHMZOBRSAi_TR-5Xh-4pA.html', 'reviews_k5Xvh4-or82ilZBFMEw52g.html', 'reviews_F44RugAixD4yauHlTGXGug.html', 'reviews_ki32AcAoV8-iSb5zHsYpPQ.html', 'reviews_OhTsSYXoD4Poc14JrjIhBw.html', 'reviews_xiWmyJyTa7o1H6uUNH2dEw.html', 'reviews_BTGdhKfImIWo5VRFqPjqIA.html', 'reviews_uQBpqa5vqv_Dzcks9q9E7Q.html', 'reviews_RemaGokjnHrNVoOtW83oOA.html', 'reviews_OHlWeG019fqPbvYO5ZDEqg.html', 'reviews_lUzX5Prr8TfXeWRt94POBg.html', 'reviews_FN-5HISn0yi5GTM83Uy59g.html', 'reviews_GgocFk6T_aU0VCk8PLiSEQ.html', 'reviews_1AbuJiCPu-mOJUPjQIpuLw.html', 'reviews_r-AhKG-CrL0MSe11cfJzTA.html', 'reviews_qnZzSC4TKen19Gz9nyKCvw.html', 'reviews_DstNnjUe4RpBuKUqLdFzyQ.html', 'reviews_ffQkdyfXbNficwpXUL75wA.html', 'reviews_TLqA84CZi0T02XMnNe6GJg.html', 'reviews_TyZnv8aX1OJfBKoyuYgZLQ.html', 'reviews_TL49XUC6xZmuRCziurrPhg.html', 'reviews_1zbleOExOpyEA525GbRyqA.html', 'reviews_sOs9goJyHT5Ggu1hTsp3kg.html', 'reviews_rN3XnPL0hqE-7qBUfAbCTg.html', 'reviews_bJVVEhficUUHVL2zvtuJWg.html', 'reviews_-Bdw-5H5C4AYSMGnAvmnzw.html', 'reviews_o_HnpcNAXstV8v-VN3CoRg.html', 'reviews_qkNUFhCZurQCbaOpjF44IQ.html', 'reviews_cGtl3aOeXXSZ4xhWiDlV4A.html', 'reviews_SqL19z7A7LB91RkWWwWvnQ.html', 'reviews_ZQBn4sRfRlB97bXf-bF-Kg.html']\n"
     ]
    }
   ],
   "source": [
    "source = requests.get(\"http://mlg.ucd.ie/modules/yalp/bars_list.html\").text\n",
    "soup = BeautifulSoup(source,\"lxml\")\n",
    "bars_list = []\n",
    "for place in soup.find_all(\"h6\"):\n",
    "    bar_names = place.a.text\n",
    "    bars_list.append(bar_names)\n",
    "print(bars_list)\n",
    "\n",
    "All_link = []\n",
    "for link in soup.find_all(href = True):\n",
    "    All_link.append(link[\"href\"])\n",
    "\n",
    "bars_link = []\n",
    "for i in All_link:\n",
    "    if i[0] == \"r\":\n",
    "        bars_link.append(i)\n",
    "print(bars_link)\n",
    "    \n"
   ]
  },
  {
   "cell_type": "code",
   "execution_count": 4,
   "metadata": {},
   "outputs": [
    {
     "data": {
      "text/html": [
       "<div>\n",
       "<style scoped>\n",
       "    .dataframe tbody tr th:only-of-type {\n",
       "        vertical-align: middle;\n",
       "    }\n",
       "\n",
       "    .dataframe tbody tr th {\n",
       "        vertical-align: top;\n",
       "    }\n",
       "\n",
       "    .dataframe thead th {\n",
       "        text-align: right;\n",
       "    }\n",
       "</style>\n",
       "<table border=\"1\" class=\"dataframe\">\n",
       "  <thead>\n",
       "    <tr style=\"text-align: right;\">\n",
       "      <th></th>\n",
       "      <th>index</th>\n",
       "      <th>Name_of_the_bar</th>\n",
       "      <th>review_date</th>\n",
       "      <th>reviewer_name</th>\n",
       "      <th>review_star</th>\n",
       "      <th>review_content</th>\n",
       "    </tr>\n",
       "  </thead>\n",
       "  <tbody>\n",
       "    <tr>\n",
       "      <th>0</th>\n",
       "      <td>0</td>\n",
       "      <td>Applebee's Neighborhood Grill &amp; Bar</td>\n",
       "      <td>2017-12-03</td>\n",
       "      <td>Michael Stacy</td>\n",
       "      <td>3</td>\n",
       "      <td>It would help if the front girl don't just sit...</td>\n",
       "    </tr>\n",
       "    <tr>\n",
       "      <th>1</th>\n",
       "      <td>1</td>\n",
       "      <td>Applebee's Neighborhood Grill &amp; Bar</td>\n",
       "      <td>2017-10-07</td>\n",
       "      <td>Shara Dycus</td>\n",
       "      <td>1</td>\n",
       "      <td>One star because that's the least amount you c...</td>\n",
       "    </tr>\n",
       "    <tr>\n",
       "      <th>2</th>\n",
       "      <td>2</td>\n",
       "      <td>Applebee's Neighborhood Grill &amp; Bar</td>\n",
       "      <td>2017-09-20</td>\n",
       "      <td>Mary Camacho</td>\n",
       "      <td>2</td>\n",
       "      <td>Bad time today. Dirty windows, table sticky, h...</td>\n",
       "    </tr>\n",
       "    <tr>\n",
       "      <th>3</th>\n",
       "      <td>3</td>\n",
       "      <td>Applebee's Neighborhood Grill &amp; Bar</td>\n",
       "      <td>2017-05-06</td>\n",
       "      <td>Leon Zeller</td>\n",
       "      <td>1</td>\n",
       "      <td>My second visit in the last year. Both experie...</td>\n",
       "    </tr>\n",
       "    <tr>\n",
       "      <th>4</th>\n",
       "      <td>4</td>\n",
       "      <td>Applebee's Neighborhood Grill &amp; Bar</td>\n",
       "      <td>2017-03-26</td>\n",
       "      <td>James Mccune</td>\n",
       "      <td>1</td>\n",
       "      <td>Absolutely awful! Took forever to get food, fo...</td>\n",
       "    </tr>\n",
       "  </tbody>\n",
       "</table>\n",
       "</div>"
      ],
      "text/plain": [
       "   index                      Name_of_the_bar review_date  reviewer_name  \\\n",
       "0      0  Applebee's Neighborhood Grill & Bar  2017-12-03  Michael Stacy   \n",
       "1      1  Applebee's Neighborhood Grill & Bar  2017-10-07    Shara Dycus   \n",
       "2      2  Applebee's Neighborhood Grill & Bar  2017-09-20   Mary Camacho   \n",
       "3      3  Applebee's Neighborhood Grill & Bar  2017-05-06    Leon Zeller   \n",
       "4      4  Applebee's Neighborhood Grill & Bar  2017-03-26   James Mccune   \n",
       "\n",
       "  review_star                                     review_content  \n",
       "0           3  It would help if the front girl don't just sit...  \n",
       "1           1  One star because that's the least amount you c...  \n",
       "2           2  Bad time today. Dirty windows, table sticky, h...  \n",
       "3           1  My second visit in the last year. Both experie...  \n",
       "4           1  Absolutely awful! Took forever to get food, fo...  "
      ]
     },
     "execution_count": 4,
     "metadata": {},
     "output_type": "execute_result"
    }
   ],
   "source": [
    "df_bar = pd.DataFrame({'Name_of_the_bar': [],\n",
    "                        'review_date': [],\n",
    "                        'reviewer_name': [],\n",
    "                        'review_star': [],\n",
    "                        'review_content': [],\n",
    "                        })\n",
    "\n",
    "for i in range(len(bars_list)):\n",
    "\n",
    "    source = requests.get(\"http://mlg.ucd.ie/modules/yalp/\"+ bars_link[i]).text\n",
    "    soup = BeautifulSoup(source,\"lxml\")\n",
    "\n",
    "    #get the list of review date\n",
    "    review_date_list = []\n",
    "    for review in soup.find_all('div',class_='review'):\n",
    "        review_date = review.find('p',class_=\"review-top\").b.text\n",
    "        review_date_list.append(review_date[12:])    \n",
    "    \n",
    "\n",
    "    #get the list of the reviewers\n",
    "    reviewer_name_list = []\n",
    "    for review in soup.find_all('div',class_='review'):\n",
    "        review_name = review.find('p',class_=\"review-top\").i.text\n",
    "        reviewer_name_list.append(review_name)\n",
    "\n",
    "    #get the list of review scores(stars)\n",
    "    review_star_list = []\n",
    "    for review in soup.find_all('div',class_='review'):\n",
    "        review_stars = review.find('img', alt=True)\n",
    "        review_star_list.append(review_stars['alt'][0])\n",
    "    \n",
    "\n",
    "    #get the list of contents\n",
    "    review_content_list = []\n",
    "    for review in soup.find_all('div',class_='review'):\n",
    "        review_content = review.find('p',class_=\"text\").text\n",
    "        review_content_list.append(review_content)\n",
    "\n",
    "    df1 = pd.DataFrame({'Name_of_the_bar': [bars_list[i] for l in range(len(review_date_list))],\n",
    "                            'review_date': review_date_list,\n",
    "                            'reviewer_name': reviewer_name_list,\n",
    "                            'review_star': review_star_list,\n",
    "                            'review_content': review_content_list,\n",
    "\n",
    "                       })\n",
    "\n",
    "\n",
    "    df_bar = pd.concat([df_bar,df1])\n",
    "    \n",
    "df_bar = df_bar.reset_index()\n",
    "df_bar.head()\n",
    "\n"
   ]
  },
  {
   "cell_type": "code",
   "execution_count": 5,
   "metadata": {},
   "outputs": [
    {
     "data": {
      "text/plain": [
       "index               int64\n",
       "Name_of_the_bar    object\n",
       "review_date        object\n",
       "reviewer_name      object\n",
       "review_star        object\n",
       "review_content     object\n",
       "dtype: object"
      ]
     },
     "execution_count": 5,
     "metadata": {},
     "output_type": "execute_result"
    }
   ],
   "source": [
    "df_bar.dtypes"
   ]
  },
  {
   "cell_type": "code",
   "execution_count": 6,
   "metadata": {},
   "outputs": [],
   "source": [
    "df_bar['review_star'] = df_bar['review_star'].astype(float)"
   ]
  },
  {
   "cell_type": "code",
   "execution_count": 7,
   "metadata": {},
   "outputs": [
    {
     "data": {
      "text/plain": [
       "index                int64\n",
       "Name_of_the_bar     object\n",
       "review_date         object\n",
       "reviewer_name       object\n",
       "review_star        float64\n",
       "review_content      object\n",
       "dtype: object"
      ]
     },
     "execution_count": 7,
     "metadata": {},
     "output_type": "execute_result"
    }
   ],
   "source": [
    "df_bar.dtypes"
   ]
  },
  {
   "cell_type": "markdown",
   "metadata": {},
   "source": [
    "### get the name of the Restaurants and their link"
   ]
  },
  {
   "cell_type": "code",
   "execution_count": 8,
   "metadata": {},
   "outputs": [
    {
     "name": "stdout",
     "output_type": "stream",
     "text": [
      "['Au Festin de Babette', 'BV Pub and Pizzeria', 'Barros Pizza', 'Beer Garden', \"Biaggio's Pizzeria\", 'Blackfinn Ameripub', \"Buford's Kitchen\", 'Canis', 'Cannery Row Buffet', \"Carbonara's Restaurant\", 'Chick-fil-A', 'Cocina OaxaqueÃ±a', 'Crystal & Jules', 'Di Manno Bakery', 'Express Pizzeria', 'Famous Gyro George', 'Forum Cafe', 'GreenMix', 'Ground Zero', 'Hogs and Hops', 'Ichiban Fish House', \"Jimmy John's\", \"Joey & Gina's Restaurant\", \"John Michael's Pub\", 'Joy Thai Restaurant', 'Kabab Palace', 'Le Fumoir Rubs', \"Lola's\", 'LongHorn Steakhouse', \"Lyndhurst Grill by J. Alexander's\", 'Mandarin Chef', 'Mangiacake Ristorante & Catering', 'Milano Italian Restaurant', 'Mirch Masala', 'Mr Pho', \"Nando's Flame Grilled Chicken\", \"Narong's Thai Kitchen\", 'Nest Restaurant & Lounge', 'New Day Cafe', 'Oaxaca Restaurante Y Cantina', 'OddFellows', 'Orient House', 'Philly Pretzel Factory', 'Pho TiÃ©n PhÃ¡t', 'Pita House', 'Pita Jungle', 'Pizza Picazzo, LLC', 'PiÃ±on Grill', 'Resto-Bar La Belle Province', \"Ricky's All Day Grill\", 'Rocket Burger & Subs', 'S&D Cafe', 'Smokin Thyme Kitchen', 'Solasta', 'Star Ginger', 'Sujeo', 'Thai Home', 'The Bier Markt', \"The Captain's Boil\", \"The Farmer's House\", 'The Human Bean', 'The Keg Steakhouse + Bar - Macleod Trail', 'Tokyo Stop', 'Ultimate Cafe', 'Villa Pizza', 'Villa Risi', 'Vivo Ristorante']\n",
      "['reviews_9YL6FpVTp9tlOm9MCqfNfA.html', 'reviews_qtotIYIF9U1PCEzMl1iE2w.html', 'reviews_vzoAKt7ND2YPLYfnVRi_Cg.html', 'reviews_3QzPhQ3ltbon0-1gC7Q18Q.html', 'reviews_N6MzDoao6s68nAIW8vS9dQ.html', 'reviews_GmSomk7UiPR64MFUs0rp2Q.html', 'reviews_L3ysePkSGjp11VIcmA3A-Q.html', 'reviews_WP1e-VmnTW2K0A9dMCF10g.html', 'reviews_-P8dGzSVhJi-5oZ-8U2y0w.html', 'reviews_R7eLlAdeIYsxux_Vm0l5sg.html', 'reviews_XxnJZbFBJ8BKPg0_4eJdAA.html', 'reviews_Yea_hg7GjYfOOzMeBSUNjg.html', 'reviews_lej93fq8JwXy9tz-7zQhdA.html', 'reviews_ydSiR7YyALkmmACVNtXzhg.html', 'reviews_Xz5tTSD3X3gACOiVn101tQ.html', 'reviews_J8UNCSLgU0JagFLpicVWXg.html', 'reviews_6kbj9mAWX4gCig-Y4WCdHA.html', 'reviews_CbpQD3NxSEoN4v7VDXYHAA.html', 'reviews_lYbyy6TTmpk_mlYuYAWkDg.html', 'reviews_u_vSbtOYpfnzhFRfEhqfyg.html', 'reviews_7GSBz8XKGkX0f1XRJwBH_Q.html', 'reviews_BPRsP7xV5RkMSCh24BTPzQ.html', 'reviews_qq2k2tohpim0gStdb9vCBw.html', 'reviews_ZntrjpC6xAPHPVIYc_TUmA.html', 'reviews_vqYCZseV9WqasZnO-iSQtg.html', 'reviews_biVQDp3K_vNP1eK5wGZOJg.html', 'reviews_ssmZUmq3_ObYKjkb7xMndA.html', 'reviews_cILk7PnJBxNsMmGhQU2cyA.html', 'reviews_3deqbrFWWyHdlvAbmqWqMQ.html', 'reviews_PjNMZ_4KhfdxYhQvuORkhg.html', 'reviews__XmJ3Y-yGxG2BENWBnYWVQ.html', 'reviews_5D2lHX9z-psWbH5Dm0aZxQ.html', 'reviews_lR4ybrBnCkWI-BMeDrJwFQ.html', 'reviews_4scx_rtI9RZfFHWUxqPuHw.html', 'reviews_iKISAYkTEH_KLn7DdNN4Yg.html', 'reviews_oXMvjbVKKr629a2FTxXtJA.html', 'reviews_caKRXynM5bY922pGtQhvfQ.html', 'reviews_y3Wxd_BP3wI3i5HFG6FRnA.html', 'reviews_Yn-8zix5_blucvZo3G8kPw.html', 'reviews_WEpu2goj7QggSgL_nP2EMg.html', 'reviews_HyN6Aj7xcGnIewNwaUko_g.html', 'reviews_ceuvH6NpDhpT1p4q1w93pA.html', 'reviews_vu8N7IKK8HC0a0omYvtPpQ.html', 'reviews_m6ez2OnTHn2-XF40Ry3IuA.html', 'reviews_Xgk-d2x59qhPxOsuCKeShw.html', 'reviews_nzV7HlERvD_v1DEfL_oiGQ.html', 'reviews_8vnQAJ3zzI-iX_d0SI7BUA.html', 'reviews_8syeNR6GsIBp1r99vUuHhQ.html', 'reviews_rqtruxU_kvgCYNT5rgoB7Q.html', 'reviews_GOav54PpK1x1y8NEsUMk0Q.html', 'reviews_-ZBfr1BHvArFp1d6XH8jOQ.html', 'reviews_vn0wYNms_5PseeYZ6pfLmA.html', 'reviews_FXCnmBZvK_7vaXOIv8txmw.html', 'reviews_vsiL3XBeoc4yh1lGWXwNdw.html', 'reviews_bRs0ejlkGV3K4b-PaBROuQ.html', 'reviews_k1mNR7eIi-UWVmj_t23Yog.html', 'reviews_sGlJTru2c707Vevy3ZmNMw.html', 'reviews_QrTvQw_aZOLk_8FZ8tQ_-w.html', 'reviews_gVILTnDFDsVuVdxFVkRK7A.html', 'reviews_7RUVYMpfc6_WbGYw6a_1Tw.html', 'reviews_ZxEvVRbOltIF0fua5SQssg.html', 'reviews_HAMLLfH-2ho37Y4zsa9bDw.html', 'reviews_EuPaczO6rMpDMrn-GtE_eA.html', 'reviews_N8bCOvrGH69jD3-CRc6Fpw.html', 'reviews_LqnKUCoiQksIPaO0qFkuGg.html', 'reviews_TZkwffx18AmMh9Yric5LjA.html', 'reviews_Ah_W72utgLC8U4rIr6VtsA.html']\n"
     ]
    }
   ],
   "source": [
    "source = requests.get(\"http://mlg.ucd.ie/modules/yalp/restaurants_list.html\").text\n",
    "soup = BeautifulSoup(source,\"lxml\")\n",
    "restaurants_list = []\n",
    "for place in soup.find_all(\"h6\"):\n",
    "    restaurant_names = place.a.text\n",
    "    restaurants_list.append(restaurant_names)\n",
    "print(restaurants_list)\n",
    "\n",
    "All_link = []\n",
    "for link in soup.find_all(href = True):\n",
    "    All_link.append(link[\"href\"])\n",
    "\n",
    "restaurants_link = []\n",
    "for i in All_link:\n",
    "    if i[0] == \"r\":\n",
    "        restaurants_link.append(i)\n",
    "print(restaurants_link)\n",
    "   "
   ]
  },
  {
   "cell_type": "code",
   "execution_count": 9,
   "metadata": {},
   "outputs": [
    {
     "data": {
      "text/html": [
       "<div>\n",
       "<style scoped>\n",
       "    .dataframe tbody tr th:only-of-type {\n",
       "        vertical-align: middle;\n",
       "    }\n",
       "\n",
       "    .dataframe tbody tr th {\n",
       "        vertical-align: top;\n",
       "    }\n",
       "\n",
       "    .dataframe thead th {\n",
       "        text-align: right;\n",
       "    }\n",
       "</style>\n",
       "<table border=\"1\" class=\"dataframe\">\n",
       "  <thead>\n",
       "    <tr style=\"text-align: right;\">\n",
       "      <th></th>\n",
       "      <th>index</th>\n",
       "      <th>Name_of_the_restaurant</th>\n",
       "      <th>review_date</th>\n",
       "      <th>reviewer_name</th>\n",
       "      <th>review_star</th>\n",
       "      <th>review_content</th>\n",
       "    </tr>\n",
       "  </thead>\n",
       "  <tbody>\n",
       "    <tr>\n",
       "      <th>0</th>\n",
       "      <td>0</td>\n",
       "      <td>Au Festin de Babette</td>\n",
       "      <td>2018-05-06</td>\n",
       "      <td>John Bray</td>\n",
       "      <td>2</td>\n",
       "      <td>Too expensive for what they had... i had an eg...</td>\n",
       "    </tr>\n",
       "    <tr>\n",
       "      <th>1</th>\n",
       "      <td>1</td>\n",
       "      <td>Au Festin de Babette</td>\n",
       "      <td>2018-03-11</td>\n",
       "      <td>Fred Foglesong</td>\n",
       "      <td>4</td>\n",
       "      <td>Very rustic place. Mismatched furniture, off K...</td>\n",
       "    </tr>\n",
       "    <tr>\n",
       "      <th>2</th>\n",
       "      <td>2</td>\n",
       "      <td>Au Festin de Babette</td>\n",
       "      <td>2018-02-18</td>\n",
       "      <td>Patricia Kazunas</td>\n",
       "      <td>5</td>\n",
       "      <td>I highly recommend Au Festin de Babette for th...</td>\n",
       "    </tr>\n",
       "    <tr>\n",
       "      <th>3</th>\n",
       "      <td>3</td>\n",
       "      <td>Au Festin de Babette</td>\n",
       "      <td>2018-02-12</td>\n",
       "      <td>Destiny Keams</td>\n",
       "      <td>3</td>\n",
       "      <td>Amazing soup and dauphinoise. BUT the wait for...</td>\n",
       "    </tr>\n",
       "    <tr>\n",
       "      <th>4</th>\n",
       "      <td>4</td>\n",
       "      <td>Au Festin de Babette</td>\n",
       "      <td>2018-01-11</td>\n",
       "      <td>Sarah Green</td>\n",
       "      <td>2</td>\n",
       "      <td>I went here by recommendation of a friend. Tho...</td>\n",
       "    </tr>\n",
       "  </tbody>\n",
       "</table>\n",
       "</div>"
      ],
      "text/plain": [
       "   index Name_of_the_restaurant review_date     reviewer_name review_star  \\\n",
       "0      0   Au Festin de Babette  2018-05-06         John Bray           2   \n",
       "1      1   Au Festin de Babette  2018-03-11    Fred Foglesong           4   \n",
       "2      2   Au Festin de Babette  2018-02-18  Patricia Kazunas           5   \n",
       "3      3   Au Festin de Babette  2018-02-12     Destiny Keams           3   \n",
       "4      4   Au Festin de Babette  2018-01-11       Sarah Green           2   \n",
       "\n",
       "                                      review_content  \n",
       "0  Too expensive for what they had... i had an eg...  \n",
       "1  Very rustic place. Mismatched furniture, off K...  \n",
       "2  I highly recommend Au Festin de Babette for th...  \n",
       "3  Amazing soup and dauphinoise. BUT the wait for...  \n",
       "4  I went here by recommendation of a friend. Tho...  "
      ]
     },
     "execution_count": 9,
     "metadata": {},
     "output_type": "execute_result"
    }
   ],
   "source": [
    "df_restaurant = pd.DataFrame({'Name_of_the_restaurant': [],\n",
    "                        'review_date': [],\n",
    "                        'reviewer_name': [],\n",
    "                        'review_star': [],\n",
    "                        'review_content': [],\n",
    "                        })\n",
    "\n",
    "for i in range(len(restaurants_list)):\n",
    "\n",
    "    source = requests.get(\"http://mlg.ucd.ie/modules/yalp/\"+ restaurants_link[i]).text\n",
    "    soup = BeautifulSoup(source,\"lxml\")\n",
    "\n",
    "    #get the list of review date\n",
    "    review_date_list = []\n",
    "    for review in soup.find_all('div',class_='review'):\n",
    "        review_date = review.find('p',class_=\"review-top\").b.text\n",
    "        review_date_list.append(review_date[12:])    \n",
    "    \n",
    "\n",
    "    #get the list of the reviewers\n",
    "    reviewer_name_list = []\n",
    "    for review in soup.find_all('div',class_='review'):\n",
    "        review_name = review.find('p',class_=\"review-top\").i.text\n",
    "        reviewer_name_list.append(review_name)\n",
    "\n",
    "    #get the list of review scores(stars)\n",
    "    review_star_list = []\n",
    "    for review in soup.find_all('div',class_='review'):\n",
    "        review_stars = review.find('img', alt=True)\n",
    "        review_star_list.append(review_stars['alt'][0])\n",
    "    \n",
    "\n",
    "    #get the list of contents\n",
    "    review_content_list = []\n",
    "    for review in soup.find_all('div',class_='review'):\n",
    "        review_content = review.find('p',class_=\"text\").text\n",
    "        review_content_list.append(review_content)\n",
    "\n",
    "    df1 = pd.DataFrame({'Name_of_the_restaurant': [restaurants_list[i] for l in range(len(review_date_list))],\n",
    "                            'review_date': review_date_list,\n",
    "                            'reviewer_name': reviewer_name_list,\n",
    "                            'review_star': review_star_list,\n",
    "                            'review_content': review_content_list,\n",
    "\n",
    "                       })\n",
    "\n",
    "\n",
    "    df_restaurant = pd.concat([df_restaurant,df1])\n",
    "    \n",
    "df_restaurant = df_restaurant.reset_index()\n",
    "df_restaurant.head()\n"
   ]
  },
  {
   "cell_type": "code",
   "execution_count": 10,
   "metadata": {},
   "outputs": [
    {
     "data": {
      "text/plain": [
       "index                      int64\n",
       "Name_of_the_restaurant    object\n",
       "review_date               object\n",
       "reviewer_name             object\n",
       "review_star               object\n",
       "review_content            object\n",
       "dtype: object"
      ]
     },
     "execution_count": 10,
     "metadata": {},
     "output_type": "execute_result"
    }
   ],
   "source": [
    "df_restaurant.dtypes"
   ]
  },
  {
   "cell_type": "code",
   "execution_count": 11,
   "metadata": {},
   "outputs": [],
   "source": [
    "df_restaurant['review_star'] = df_restaurant['review_star'].astype(float)"
   ]
  },
  {
   "cell_type": "code",
   "execution_count": 12,
   "metadata": {},
   "outputs": [
    {
     "data": {
      "text/plain": [
       "index                       int64\n",
       "Name_of_the_restaurant     object\n",
       "review_date                object\n",
       "reviewer_name              object\n",
       "review_star               float64\n",
       "review_content             object\n",
       "dtype: object"
      ]
     },
     "execution_count": 12,
     "metadata": {},
     "output_type": "execute_result"
    }
   ],
   "source": [
    "df_restaurant.dtypes"
   ]
  },
  {
   "cell_type": "markdown",
   "metadata": {},
   "source": [
    "# (II)cleaning and manipulating the two different dataset with some simple analytics"
   ]
  },
  {
   "cell_type": "code",
   "execution_count": 13,
   "metadata": {},
   "outputs": [],
   "source": [
    "# define a function if star > 3 then it's 1(positive), else is 0(negative)\n",
    "def attitude(star):\n",
    "    if star > 3:\n",
    "        return 1\n",
    "    else:\n",
    "        return 0"
   ]
  },
  {
   "cell_type": "code",
   "execution_count": 14,
   "metadata": {},
   "outputs": [],
   "source": [
    "df_bar[\"attitude\"] = df_bar['review_star'].apply(attitude)"
   ]
  },
  {
   "cell_type": "code",
   "execution_count": 15,
   "metadata": {},
   "outputs": [
    {
     "data": {
      "text/html": [
       "<div>\n",
       "<style scoped>\n",
       "    .dataframe tbody tr th:only-of-type {\n",
       "        vertical-align: middle;\n",
       "    }\n",
       "\n",
       "    .dataframe tbody tr th {\n",
       "        vertical-align: top;\n",
       "    }\n",
       "\n",
       "    .dataframe thead th {\n",
       "        text-align: right;\n",
       "    }\n",
       "</style>\n",
       "<table border=\"1\" class=\"dataframe\">\n",
       "  <thead>\n",
       "    <tr style=\"text-align: right;\">\n",
       "      <th></th>\n",
       "      <th>index</th>\n",
       "      <th>Name_of_the_bar</th>\n",
       "      <th>review_date</th>\n",
       "      <th>reviewer_name</th>\n",
       "      <th>review_star</th>\n",
       "      <th>review_content</th>\n",
       "      <th>attitude</th>\n",
       "    </tr>\n",
       "  </thead>\n",
       "  <tbody>\n",
       "    <tr>\n",
       "      <th>0</th>\n",
       "      <td>0</td>\n",
       "      <td>Applebee's Neighborhood Grill &amp; Bar</td>\n",
       "      <td>2017-12-03</td>\n",
       "      <td>Michael Stacy</td>\n",
       "      <td>3.0</td>\n",
       "      <td>It would help if the front girl don't just sit...</td>\n",
       "      <td>0</td>\n",
       "    </tr>\n",
       "    <tr>\n",
       "      <th>1</th>\n",
       "      <td>1</td>\n",
       "      <td>Applebee's Neighborhood Grill &amp; Bar</td>\n",
       "      <td>2017-10-07</td>\n",
       "      <td>Shara Dycus</td>\n",
       "      <td>1.0</td>\n",
       "      <td>One star because that's the least amount you c...</td>\n",
       "      <td>0</td>\n",
       "    </tr>\n",
       "    <tr>\n",
       "      <th>2</th>\n",
       "      <td>2</td>\n",
       "      <td>Applebee's Neighborhood Grill &amp; Bar</td>\n",
       "      <td>2017-09-20</td>\n",
       "      <td>Mary Camacho</td>\n",
       "      <td>2.0</td>\n",
       "      <td>Bad time today. Dirty windows, table sticky, h...</td>\n",
       "      <td>0</td>\n",
       "    </tr>\n",
       "    <tr>\n",
       "      <th>3</th>\n",
       "      <td>3</td>\n",
       "      <td>Applebee's Neighborhood Grill &amp; Bar</td>\n",
       "      <td>2017-05-06</td>\n",
       "      <td>Leon Zeller</td>\n",
       "      <td>1.0</td>\n",
       "      <td>My second visit in the last year. Both experie...</td>\n",
       "      <td>0</td>\n",
       "    </tr>\n",
       "    <tr>\n",
       "      <th>4</th>\n",
       "      <td>4</td>\n",
       "      <td>Applebee's Neighborhood Grill &amp; Bar</td>\n",
       "      <td>2017-03-26</td>\n",
       "      <td>James Mccune</td>\n",
       "      <td>1.0</td>\n",
       "      <td>Absolutely awful! Took forever to get food, fo...</td>\n",
       "      <td>0</td>\n",
       "    </tr>\n",
       "  </tbody>\n",
       "</table>\n",
       "</div>"
      ],
      "text/plain": [
       "   index                      Name_of_the_bar review_date  reviewer_name  \\\n",
       "0      0  Applebee's Neighborhood Grill & Bar  2017-12-03  Michael Stacy   \n",
       "1      1  Applebee's Neighborhood Grill & Bar  2017-10-07    Shara Dycus   \n",
       "2      2  Applebee's Neighborhood Grill & Bar  2017-09-20   Mary Camacho   \n",
       "3      3  Applebee's Neighborhood Grill & Bar  2017-05-06    Leon Zeller   \n",
       "4      4  Applebee's Neighborhood Grill & Bar  2017-03-26   James Mccune   \n",
       "\n",
       "   review_star                                     review_content  attitude  \n",
       "0          3.0  It would help if the front girl don't just sit...         0  \n",
       "1          1.0  One star because that's the least amount you c...         0  \n",
       "2          2.0  Bad time today. Dirty windows, table sticky, h...         0  \n",
       "3          1.0  My second visit in the last year. Both experie...         0  \n",
       "4          1.0  Absolutely awful! Took forever to get food, fo...         0  "
      ]
     },
     "execution_count": 15,
     "metadata": {},
     "output_type": "execute_result"
    }
   ],
   "source": [
    "df_bar.head()"
   ]
  },
  {
   "cell_type": "code",
   "execution_count": 16,
   "metadata": {},
   "outputs": [],
   "source": [
    "#get to know the lengeth of the content\n",
    "df_bar['text_length'] = df_bar['review_content'].apply(len)"
   ]
  },
  {
   "cell_type": "code",
   "execution_count": 17,
   "metadata": {},
   "outputs": [
    {
     "data": {
      "text/html": [
       "<div>\n",
       "<style scoped>\n",
       "    .dataframe tbody tr th:only-of-type {\n",
       "        vertical-align: middle;\n",
       "    }\n",
       "\n",
       "    .dataframe tbody tr th {\n",
       "        vertical-align: top;\n",
       "    }\n",
       "\n",
       "    .dataframe thead th {\n",
       "        text-align: right;\n",
       "    }\n",
       "</style>\n",
       "<table border=\"1\" class=\"dataframe\">\n",
       "  <thead>\n",
       "    <tr style=\"text-align: right;\">\n",
       "      <th></th>\n",
       "      <th>index</th>\n",
       "      <th>Name_of_the_bar</th>\n",
       "      <th>review_date</th>\n",
       "      <th>reviewer_name</th>\n",
       "      <th>review_star</th>\n",
       "      <th>review_content</th>\n",
       "      <th>attitude</th>\n",
       "      <th>text_length</th>\n",
       "    </tr>\n",
       "  </thead>\n",
       "  <tbody>\n",
       "    <tr>\n",
       "      <th>0</th>\n",
       "      <td>0</td>\n",
       "      <td>Applebee's Neighborhood Grill &amp; Bar</td>\n",
       "      <td>2017-12-03</td>\n",
       "      <td>Michael Stacy</td>\n",
       "      <td>3.0</td>\n",
       "      <td>It would help if the front girl don't just sit...</td>\n",
       "      <td>0</td>\n",
       "      <td>308</td>\n",
       "    </tr>\n",
       "    <tr>\n",
       "      <th>1</th>\n",
       "      <td>1</td>\n",
       "      <td>Applebee's Neighborhood Grill &amp; Bar</td>\n",
       "      <td>2017-10-07</td>\n",
       "      <td>Shara Dycus</td>\n",
       "      <td>1.0</td>\n",
       "      <td>One star because that's the least amount you c...</td>\n",
       "      <td>0</td>\n",
       "      <td>662</td>\n",
       "    </tr>\n",
       "    <tr>\n",
       "      <th>2</th>\n",
       "      <td>2</td>\n",
       "      <td>Applebee's Neighborhood Grill &amp; Bar</td>\n",
       "      <td>2017-09-20</td>\n",
       "      <td>Mary Camacho</td>\n",
       "      <td>2.0</td>\n",
       "      <td>Bad time today. Dirty windows, table sticky, h...</td>\n",
       "      <td>0</td>\n",
       "      <td>167</td>\n",
       "    </tr>\n",
       "    <tr>\n",
       "      <th>3</th>\n",
       "      <td>3</td>\n",
       "      <td>Applebee's Neighborhood Grill &amp; Bar</td>\n",
       "      <td>2017-05-06</td>\n",
       "      <td>Leon Zeller</td>\n",
       "      <td>1.0</td>\n",
       "      <td>My second visit in the last year. Both experie...</td>\n",
       "      <td>0</td>\n",
       "      <td>1505</td>\n",
       "    </tr>\n",
       "    <tr>\n",
       "      <th>4</th>\n",
       "      <td>4</td>\n",
       "      <td>Applebee's Neighborhood Grill &amp; Bar</td>\n",
       "      <td>2017-03-26</td>\n",
       "      <td>James Mccune</td>\n",
       "      <td>1.0</td>\n",
       "      <td>Absolutely awful! Took forever to get food, fo...</td>\n",
       "      <td>0</td>\n",
       "      <td>187</td>\n",
       "    </tr>\n",
       "  </tbody>\n",
       "</table>\n",
       "</div>"
      ],
      "text/plain": [
       "   index                      Name_of_the_bar review_date  reviewer_name  \\\n",
       "0      0  Applebee's Neighborhood Grill & Bar  2017-12-03  Michael Stacy   \n",
       "1      1  Applebee's Neighborhood Grill & Bar  2017-10-07    Shara Dycus   \n",
       "2      2  Applebee's Neighborhood Grill & Bar  2017-09-20   Mary Camacho   \n",
       "3      3  Applebee's Neighborhood Grill & Bar  2017-05-06    Leon Zeller   \n",
       "4      4  Applebee's Neighborhood Grill & Bar  2017-03-26   James Mccune   \n",
       "\n",
       "   review_star                                     review_content  attitude  \\\n",
       "0          3.0  It would help if the front girl don't just sit...         0   \n",
       "1          1.0  One star because that's the least amount you c...         0   \n",
       "2          2.0  Bad time today. Dirty windows, table sticky, h...         0   \n",
       "3          1.0  My second visit in the last year. Both experie...         0   \n",
       "4          1.0  Absolutely awful! Took forever to get food, fo...         0   \n",
       "\n",
       "   text_length  \n",
       "0          308  \n",
       "1          662  \n",
       "2          167  \n",
       "3         1505  \n",
       "4          187  "
      ]
     },
     "execution_count": 17,
     "metadata": {},
     "output_type": "execute_result"
    }
   ],
   "source": [
    "df_bar.head()"
   ]
  },
  {
   "cell_type": "code",
   "execution_count": 18,
   "metadata": {},
   "outputs": [
    {
     "data": {
      "text/plain": [
       "<seaborn.axisgrid.FacetGrid at 0x1a27c53e10>"
      ]
     },
     "execution_count": 18,
     "metadata": {},
     "output_type": "execute_result"
    },
    {
     "data": {
      "image/png": "[encoded data removed]",
      "text/plain": [
       "<Figure size 1080x216 with 5 Axes>"
      ]
     },
     "metadata": {},
     "output_type": "display_data"
    }
   ],
   "source": [
    "g1 = sns.FacetGrid(df_bar,col='review_star')\n",
    "g1.map(plt.hist,'text_length')"
   ]
  },
  {
   "cell_type": "code",
   "execution_count": 19,
   "metadata": {},
   "outputs": [
    {
     "data": {
      "text/plain": [
       "review_star\n",
       "1.0    734.169550\n",
       "2.0    734.469274\n",
       "3.0    780.010309\n",
       "4.0    636.609231\n",
       "5.0    474.238596\n",
       "Name: text_length, dtype: float64"
      ]
     },
     "execution_count": 19,
     "metadata": {},
     "output_type": "execute_result"
    }
   ],
   "source": [
    "df_bar.groupby('review_star')[\"text_length\"].mean()"
   ]
  },
  {
   "cell_type": "code",
   "execution_count": 20,
   "metadata": {},
   "outputs": [
    {
     "data": {
      "text/plain": [
       "<matplotlib.axes._subplots.AxesSubplot at 0x1a27c53780>"
      ]
     },
     "execution_count": 20,
     "metadata": {},
     "output_type": "execute_result"
    },
    {
     "data": {
      "image/png": "[encoded data removed]",
      "text/plain": [
       "<Figure size 432x288 with 1 Axes>"
      ]
     },
     "metadata": {},
     "output_type": "display_data"
    }
   ],
   "source": [
    "sns.countplot(x='review_star',data=df_bar,palette='rainbow')"
   ]
  },
  {
   "cell_type": "code",
   "execution_count": 21,
   "metadata": {},
   "outputs": [
    {
     "data": {
      "text/plain": [
       "review_star\n",
       "1.0    289\n",
       "2.0    179\n",
       "3.0     97\n",
       "4.0    325\n",
       "5.0    570\n",
       "Name: reviewer_name, dtype: int64"
      ]
     },
     "execution_count": 21,
     "metadata": {},
     "output_type": "execute_result"
    }
   ],
   "source": [
    "df_bar.groupby('review_star')[\"reviewer_name\"].count()"
   ]
  },
  {
   "cell_type": "code",
   "execution_count": 22,
   "metadata": {},
   "outputs": [],
   "source": [
    "df_restaurant[\"attitude\"] = df_restaurant['review_star'].apply(attitude)"
   ]
  },
  {
   "cell_type": "code",
   "execution_count": 23,
   "metadata": {},
   "outputs": [
    {
     "data": {
      "text/html": [
       "<div>\n",
       "<style scoped>\n",
       "    .dataframe tbody tr th:only-of-type {\n",
       "        vertical-align: middle;\n",
       "    }\n",
       "\n",
       "    .dataframe tbody tr th {\n",
       "        vertical-align: top;\n",
       "    }\n",
       "\n",
       "    .dataframe thead th {\n",
       "        text-align: right;\n",
       "    }\n",
       "</style>\n",
       "<table border=\"1\" class=\"dataframe\">\n",
       "  <thead>\n",
       "    <tr style=\"text-align: right;\">\n",
       "      <th></th>\n",
       "      <th>index</th>\n",
       "      <th>Name_of_the_restaurant</th>\n",
       "      <th>review_date</th>\n",
       "      <th>reviewer_name</th>\n",
       "      <th>review_star</th>\n",
       "      <th>review_content</th>\n",
       "      <th>attitude</th>\n",
       "    </tr>\n",
       "  </thead>\n",
       "  <tbody>\n",
       "    <tr>\n",
       "      <th>0</th>\n",
       "      <td>0</td>\n",
       "      <td>Au Festin de Babette</td>\n",
       "      <td>2018-05-06</td>\n",
       "      <td>John Bray</td>\n",
       "      <td>2.0</td>\n",
       "      <td>Too expensive for what they had... i had an eg...</td>\n",
       "      <td>0</td>\n",
       "    </tr>\n",
       "    <tr>\n",
       "      <th>1</th>\n",
       "      <td>1</td>\n",
       "      <td>Au Festin de Babette</td>\n",
       "      <td>2018-03-11</td>\n",
       "      <td>Fred Foglesong</td>\n",
       "      <td>4.0</td>\n",
       "      <td>Very rustic place. Mismatched furniture, off K...</td>\n",
       "      <td>1</td>\n",
       "    </tr>\n",
       "    <tr>\n",
       "      <th>2</th>\n",
       "      <td>2</td>\n",
       "      <td>Au Festin de Babette</td>\n",
       "      <td>2018-02-18</td>\n",
       "      <td>Patricia Kazunas</td>\n",
       "      <td>5.0</td>\n",
       "      <td>I highly recommend Au Festin de Babette for th...</td>\n",
       "      <td>1</td>\n",
       "    </tr>\n",
       "    <tr>\n",
       "      <th>3</th>\n",
       "      <td>3</td>\n",
       "      <td>Au Festin de Babette</td>\n",
       "      <td>2018-02-12</td>\n",
       "      <td>Destiny Keams</td>\n",
       "      <td>3.0</td>\n",
       "      <td>Amazing soup and dauphinoise. BUT the wait for...</td>\n",
       "      <td>0</td>\n",
       "    </tr>\n",
       "    <tr>\n",
       "      <th>4</th>\n",
       "      <td>4</td>\n",
       "      <td>Au Festin de Babette</td>\n",
       "      <td>2018-01-11</td>\n",
       "      <td>Sarah Green</td>\n",
       "      <td>2.0</td>\n",
       "      <td>I went here by recommendation of a friend. Tho...</td>\n",
       "      <td>0</td>\n",
       "    </tr>\n",
       "  </tbody>\n",
       "</table>\n",
       "</div>"
      ],
      "text/plain": [
       "   index Name_of_the_restaurant review_date     reviewer_name  review_star  \\\n",
       "0      0   Au Festin de Babette  2018-05-06         John Bray          2.0   \n",
       "1      1   Au Festin de Babette  2018-03-11    Fred Foglesong          4.0   \n",
       "2      2   Au Festin de Babette  2018-02-18  Patricia Kazunas          5.0   \n",
       "3      3   Au Festin de Babette  2018-02-12     Destiny Keams          3.0   \n",
       "4      4   Au Festin de Babette  2018-01-11       Sarah Green          2.0   \n",
       "\n",
       "                                      review_content  attitude  \n",
       "0  Too expensive for what they had... i had an eg...         0  \n",
       "1  Very rustic place. Mismatched furniture, off K...         1  \n",
       "2  I highly recommend Au Festin de Babette for th...         1  \n",
       "3  Amazing soup and dauphinoise. BUT the wait for...         0  \n",
       "4  I went here by recommendation of a friend. Tho...         0  "
      ]
     },
     "execution_count": 23,
     "metadata": {},
     "output_type": "execute_result"
    }
   ],
   "source": [
    "df_restaurant.head()"
   ]
  },
  {
   "cell_type": "code",
   "execution_count": 24,
   "metadata": {},
   "outputs": [],
   "source": [
    "df_restaurant['text_length'] = df_restaurant['review_content'].apply(len)"
   ]
  },
  {
   "cell_type": "code",
   "execution_count": 25,
   "metadata": {},
   "outputs": [
    {
     "data": {
      "text/html": [
       "<div>\n",
       "<style scoped>\n",
       "    .dataframe tbody tr th:only-of-type {\n",
       "        vertical-align: middle;\n",
       "    }\n",
       "\n",
       "    .dataframe tbody tr th {\n",
       "        vertical-align: top;\n",
       "    }\n",
       "\n",
       "    .dataframe thead th {\n",
       "        text-align: right;\n",
       "    }\n",
       "</style>\n",
       "<table border=\"1\" class=\"dataframe\">\n",
       "  <thead>\n",
       "    <tr style=\"text-align: right;\">\n",
       "      <th></th>\n",
       "      <th>index</th>\n",
       "      <th>Name_of_the_restaurant</th>\n",
       "      <th>review_date</th>\n",
       "      <th>reviewer_name</th>\n",
       "      <th>review_star</th>\n",
       "      <th>review_content</th>\n",
       "      <th>attitude</th>\n",
       "      <th>text_length</th>\n",
       "    </tr>\n",
       "  </thead>\n",
       "  <tbody>\n",
       "    <tr>\n",
       "      <th>0</th>\n",
       "      <td>0</td>\n",
       "      <td>Au Festin de Babette</td>\n",
       "      <td>2018-05-06</td>\n",
       "      <td>John Bray</td>\n",
       "      <td>2.0</td>\n",
       "      <td>Too expensive for what they had... i had an eg...</td>\n",
       "      <td>0</td>\n",
       "      <td>195</td>\n",
       "    </tr>\n",
       "    <tr>\n",
       "      <th>1</th>\n",
       "      <td>1</td>\n",
       "      <td>Au Festin de Babette</td>\n",
       "      <td>2018-03-11</td>\n",
       "      <td>Fred Foglesong</td>\n",
       "      <td>4.0</td>\n",
       "      <td>Very rustic place. Mismatched furniture, off K...</td>\n",
       "      <td>1</td>\n",
       "      <td>331</td>\n",
       "    </tr>\n",
       "    <tr>\n",
       "      <th>2</th>\n",
       "      <td>2</td>\n",
       "      <td>Au Festin de Babette</td>\n",
       "      <td>2018-02-18</td>\n",
       "      <td>Patricia Kazunas</td>\n",
       "      <td>5.0</td>\n",
       "      <td>I highly recommend Au Festin de Babette for th...</td>\n",
       "      <td>1</td>\n",
       "      <td>493</td>\n",
       "    </tr>\n",
       "    <tr>\n",
       "      <th>3</th>\n",
       "      <td>3</td>\n",
       "      <td>Au Festin de Babette</td>\n",
       "      <td>2018-02-12</td>\n",
       "      <td>Destiny Keams</td>\n",
       "      <td>3.0</td>\n",
       "      <td>Amazing soup and dauphinoise. BUT the wait for...</td>\n",
       "      <td>0</td>\n",
       "      <td>269</td>\n",
       "    </tr>\n",
       "    <tr>\n",
       "      <th>4</th>\n",
       "      <td>4</td>\n",
       "      <td>Au Festin de Babette</td>\n",
       "      <td>2018-01-11</td>\n",
       "      <td>Sarah Green</td>\n",
       "      <td>2.0</td>\n",
       "      <td>I went here by recommendation of a friend. Tho...</td>\n",
       "      <td>0</td>\n",
       "      <td>235</td>\n",
       "    </tr>\n",
       "  </tbody>\n",
       "</table>\n",
       "</div>"
      ],
      "text/plain": [
       "   index Name_of_the_restaurant review_date     reviewer_name  review_star  \\\n",
       "0      0   Au Festin de Babette  2018-05-06         John Bray          2.0   \n",
       "1      1   Au Festin de Babette  2018-03-11    Fred Foglesong          4.0   \n",
       "2      2   Au Festin de Babette  2018-02-18  Patricia Kazunas          5.0   \n",
       "3      3   Au Festin de Babette  2018-02-12     Destiny Keams          3.0   \n",
       "4      4   Au Festin de Babette  2018-01-11       Sarah Green          2.0   \n",
       "\n",
       "                                      review_content  attitude  text_length  \n",
       "0  Too expensive for what they had... i had an eg...         0          195  \n",
       "1  Very rustic place. Mismatched furniture, off K...         1          331  \n",
       "2  I highly recommend Au Festin de Babette for th...         1          493  \n",
       "3  Amazing soup and dauphinoise. BUT the wait for...         0          269  \n",
       "4  I went here by recommendation of a friend. Tho...         0          235  "
      ]
     },
     "execution_count": 25,
     "metadata": {},
     "output_type": "execute_result"
    }
   ],
   "source": [
    "df_restaurant.head()"
   ]
  },
  {
   "cell_type": "code",
   "execution_count": 26,
   "metadata": {},
   "outputs": [
    {
     "data": {
      "text/plain": [
       "<seaborn.axisgrid.FacetGrid at 0x1a27f765f8>"
      ]
     },
     "execution_count": 26,
     "metadata": {},
     "output_type": "execute_result"
    },
    {
     "data": {
      "image/png": "[encoded data removed]",
      "text/plain": [
       "<Figure size 1080x216 with 5 Axes>"
      ]
     },
     "metadata": {},
     "output_type": "display_data"
    }
   ],
   "source": [
    "g2 = sns.FacetGrid(df_restaurant,col='review_star')\n",
    "g2.map(plt.hist,'text_length')"
   ]
  },
  {
   "cell_type": "code",
   "execution_count": 27,
   "metadata": {},
   "outputs": [
    {
     "data": {
      "text/plain": [
       "<matplotlib.axes._subplots.AxesSubplot at 0x1a27be48d0>"
      ]
     },
     "execution_count": 27,
     "metadata": {},
     "output_type": "execute_result"
    },
    {
     "data": {
      "image/png": "[encoded data removed]",
      "text/plain": [
       "<Figure size 432x288 with 1 Axes>"
      ]
     },
     "metadata": {},
     "output_type": "display_data"
    }
   ],
   "source": [
    "sns.countplot(x='review_star',data=df_restaurant,palette='rainbow')"
   ]
  },
  {
   "cell_type": "code",
   "execution_count": 28,
   "metadata": {},
   "outputs": [
    {
     "data": {
      "text/plain": [
       "review_star\n",
       "1.0    235\n",
       "2.0    176\n",
       "3.0     96\n",
       "4.0    335\n",
       "5.0    598\n",
       "Name: reviewer_name, dtype: int64"
      ]
     },
     "execution_count": 28,
     "metadata": {},
     "output_type": "execute_result"
    }
   ],
   "source": [
    "df_restaurant.groupby('review_star')[\"reviewer_name\"].count()"
   ]
  },
  {
   "cell_type": "markdown",
   "metadata": {},
   "source": [
    "# (III)start the machine learning process"
   ]
  },
  {
   "cell_type": "markdown",
   "metadata": {},
   "source": [
    "## 1.split the training data and test data"
   ]
  },
  {
   "cell_type": "code",
   "execution_count": 29,
   "metadata": {},
   "outputs": [],
   "source": [
    "from sklearn.model_selection import train_test_split"
   ]
  },
  {
   "cell_type": "code",
   "execution_count": 30,
   "metadata": {},
   "outputs": [],
   "source": [
    "from sklearn.metrics import confusion_matrix,classification_report"
   ]
  },
  {
   "cell_type": "markdown",
   "metadata": {},
   "source": [
    "#### (1.1)split the data from df_bar"
   ]
  },
  {
   "cell_type": "code",
   "execution_count": 31,
   "metadata": {},
   "outputs": [],
   "source": [
    "X = df_bar['review_content']\n",
    "y = df_bar['attitude']"
   ]
  },
  {
   "cell_type": "code",
   "execution_count": 32,
   "metadata": {},
   "outputs": [],
   "source": [
    "X_trainbar, X_testbar, y_trainbar, y_testbar = train_test_split(X, y,test_size=0.33,random_state=99)"
   ]
  },
  {
   "cell_type": "markdown",
   "metadata": {},
   "source": [
    "#### (1.2)split the data from df_restaurant"
   ]
  },
  {
   "cell_type": "code",
   "execution_count": 33,
   "metadata": {},
   "outputs": [],
   "source": [
    "X = df_restaurant['review_content']\n",
    "y = df_restaurant['attitude']"
   ]
  },
  {
   "cell_type": "code",
   "execution_count": 34,
   "metadata": {},
   "outputs": [],
   "source": [
    "X_trainres, X_testres, y_trainres, y_testres = train_test_split(X, y,test_size=0.33,random_state=99)"
   ]
  },
  {
   "cell_type": "markdown",
   "metadata": {},
   "source": [
    "## 2.Using the pipline and CountVectorizer, TfidfTransformer,MultinomialNB classifier"
   ]
  },
  {
   "cell_type": "code",
   "execution_count": 35,
   "metadata": {},
   "outputs": [],
   "source": [
    "from sklearn.feature_extraction.text import CountVectorizer\n",
    "cv = CountVectorizer()"
   ]
  },
  {
   "cell_type": "code",
   "execution_count": 36,
   "metadata": {},
   "outputs": [],
   "source": [
    "from sklearn.feature_extraction.text import  TfidfTransformer"
   ]
  },
  {
   "cell_type": "code",
   "execution_count": 37,
   "metadata": {},
   "outputs": [],
   "source": [
    "from sklearn.naive_bayes import MultinomialNB\n",
    "nb = MultinomialNB()"
   ]
  },
  {
   "cell_type": "code",
   "execution_count": 38,
   "metadata": {},
   "outputs": [],
   "source": [
    "from sklearn.pipeline import Pipeline"
   ]
  },
  {
   "cell_type": "code",
   "execution_count": 39,
   "metadata": {},
   "outputs": [],
   "source": [
    "pipeline = Pipeline([\n",
    "    ('bow', CountVectorizer()),  # strings to token integer counts\n",
    "    ('tfidf', TfidfTransformer()),  # integer counts to weighted TF-IDF scores\n",
    "    ('classifier', MultinomialNB()),  # train on TF-IDF vectors w/ Naive Bayes classifier\n",
    "])"
   ]
  },
  {
   "cell_type": "markdown",
   "metadata": {},
   "source": [
    "#### (2.1)Using the pipline and CountVectorizer, TfidfTransformer,MultinomialNB on bars dataset."
   ]
  },
  {
   "cell_type": "code",
   "execution_count": 40,
   "metadata": {},
   "outputs": [],
   "source": [
    "nb_model_bar = pipeline.fit(X_trainbar,y_trainbar)"
   ]
  },
  {
   "cell_type": "code",
   "execution_count": 41,
   "metadata": {},
   "outputs": [],
   "source": [
    "predictions_bar = nb_model_bar.predict(X_testbar)\n",
    "nb_predictions_bar = predictions_bar"
   ]
  },
  {
   "cell_type": "code",
   "execution_count": 42,
   "metadata": {},
   "outputs": [
    {
     "name": "stdout",
     "output_type": "stream",
     "text": [
      "confusion matrix:\n",
      "[[ 45 151]\n",
      " [  0 286]]\n",
      "\n",
      "\n",
      "____________________________________________________\n",
      "\n",
      "\n",
      "classification reprot:\n",
      "              precision    recall  f1-score   support\n",
      "\n",
      "           0       1.00      0.23      0.37       196\n",
      "           1       0.65      1.00      0.79       286\n",
      "\n",
      "   micro avg       0.69      0.69      0.69       482\n",
      "   macro avg       0.83      0.61      0.58       482\n",
      "weighted avg       0.79      0.69      0.62       482\n",
      "\n"
     ]
    }
   ],
   "source": [
    "print(\"confusion matrix:\")\n",
    "print(confusion_matrix(y_testbar,predictions_bar))\n",
    "print('\\n')\n",
    "print('____________________________________________________')\n",
    "print('\\n')\n",
    "print(\"classification reprot:\")\n",
    "print(classification_report(y_testbar,predictions_bar))"
   ]
  },
  {
   "cell_type": "markdown",
   "metadata": {},
   "source": [
    "#### (2.2)Using the pipline and CountVectorizer, TfidfTransformer,MultinomialNB on restaurants dataset."
   ]
  },
  {
   "cell_type": "code",
   "execution_count": 43,
   "metadata": {},
   "outputs": [],
   "source": [
    "nb_model_res = pipeline.fit(X_trainres,y_trainres)"
   ]
  },
  {
   "cell_type": "code",
   "execution_count": 44,
   "metadata": {},
   "outputs": [],
   "source": [
    "predictions_res = nb_model_res.predict(X_testres)\n",
    "nb_predictions_res = predictions_res"
   ]
  },
  {
   "cell_type": "code",
   "execution_count": 45,
   "metadata": {},
   "outputs": [
    {
     "name": "stdout",
     "output_type": "stream",
     "text": [
      "confusion matrix:\n",
      "[[  8 159]\n",
      " [  0 309]]\n",
      "\n",
      "\n",
      "____________________________________________________\n",
      "\n",
      "\n",
      "classification reprot:\n",
      "              precision    recall  f1-score   support\n",
      "\n",
      "           0       1.00      0.05      0.09       167\n",
      "           1       0.66      1.00      0.80       309\n",
      "\n",
      "   micro avg       0.67      0.67      0.67       476\n",
      "   macro avg       0.83      0.52      0.44       476\n",
      "weighted avg       0.78      0.67      0.55       476\n",
      "\n"
     ]
    }
   ],
   "source": [
    "print(\"confusion matrix:\")\n",
    "print(confusion_matrix(y_testres,predictions_res))\n",
    "print('\\n')\n",
    "print('____________________________________________________')\n",
    "print('\\n')\n",
    "print(\"classification reprot:\")\n",
    "print(classification_report(y_testres,predictions_res))"
   ]
  },
  {
   "cell_type": "markdown",
   "metadata": {},
   "source": [
    "#### (2.3)Using the pipline and CountVectorizer, TfidfTransformer,MultinomialNB on a cross check."
   ]
  },
  {
   "cell_type": "code",
   "execution_count": 46,
   "metadata": {},
   "outputs": [],
   "source": [
    "# using the model train by bar data checking restaurant data\n",
    "predictions_barM_on_res = nb_model_bar.predict(X_testres)"
   ]
  },
  {
   "cell_type": "code",
   "execution_count": 47,
   "metadata": {},
   "outputs": [],
   "source": [
    "# using the model train by restaurant data checking bar data\n",
    "predictions_resM_on_bar = nb_model_res.predict(X_testbar)"
   ]
  },
  {
   "cell_type": "code",
   "execution_count": 48,
   "metadata": {},
   "outputs": [
    {
     "name": "stdout",
     "output_type": "stream",
     "text": [
      "using the model train by bar data checking restaurant data\n",
      "confusion matrix:\n",
      "[[  8 159]\n",
      " [  0 309]]\n",
      "\n",
      "\n",
      "____________________________________________________\n",
      "\n",
      "\n",
      "classification reprot:\n",
      "              precision    recall  f1-score   support\n",
      "\n",
      "           0       1.00      0.05      0.09       167\n",
      "           1       0.66      1.00      0.80       309\n",
      "\n",
      "   micro avg       0.67      0.67      0.67       476\n",
      "   macro avg       0.83      0.52      0.44       476\n",
      "weighted avg       0.78      0.67      0.55       476\n",
      "\n",
      "\n",
      "\n",
      "\n",
      "\n",
      "using the model train by restaurant data checking bar data\n",
      "confusion matrix:\n",
      "[[  9 187]\n",
      " [  0 286]]\n",
      "\n",
      "\n",
      "____________________________________________________\n",
      "\n",
      "\n",
      "classification reprot:\n",
      "              precision    recall  f1-score   support\n",
      "\n",
      "           0       1.00      0.05      0.09       196\n",
      "           1       0.60      1.00      0.75       286\n",
      "\n",
      "   micro avg       0.61      0.61      0.61       482\n",
      "   macro avg       0.80      0.52      0.42       482\n",
      "weighted avg       0.77      0.61      0.48       482\n",
      "\n"
     ]
    }
   ],
   "source": [
    "print(\"using the model train by bar data checking restaurant data\")\n",
    "print(\"confusion matrix:\")\n",
    "print(confusion_matrix(y_testres,predictions_barM_on_res))\n",
    "print('\\n')\n",
    "print('____________________________________________________')\n",
    "print('\\n')\n",
    "print(\"classification reprot:\")\n",
    "print(classification_report(y_testres,predictions_barM_on_res))\n",
    "print(\"\\n\")\n",
    "print(\"\\n\")\n",
    "\n",
    "print(\"using the model train by restaurant data checking bar data\")\n",
    "print(\"confusion matrix:\")\n",
    "print(confusion_matrix(y_testbar,predictions_resM_on_bar))\n",
    "print('\\n')\n",
    "print('____________________________________________________')\n",
    "print('\\n')\n",
    "print(\"classification reprot:\")\n",
    "print(classification_report(y_testbar,predictions_resM_on_bar))"
   ]
  },
  {
   "cell_type": "markdown",
   "metadata": {},
   "source": [
    "## 3.Using the pipline and CountVectorizer, TfidfTransformer,Randomforest classifier"
   ]
  },
  {
   "cell_type": "code",
   "execution_count": 49,
   "metadata": {},
   "outputs": [],
   "source": [
    "from sklearn.ensemble import RandomForestClassifier"
   ]
  },
  {
   "cell_type": "code",
   "execution_count": 50,
   "metadata": {},
   "outputs": [],
   "source": [
    "pipeline = Pipeline([\n",
    "    ('bow', CountVectorizer()),  # strings to token integer counts\n",
    "    ('tfidf', TfidfTransformer()),  # integer counts to weighted TF-IDF scores\n",
    "    ('classifier', RandomForestClassifier()),  # train on TF-IDF vectors w/ random forest classifier\n",
    "])"
   ]
  },
  {
   "cell_type": "markdown",
   "metadata": {},
   "source": [
    "#### (3.1).Using the pipline and CountVectorizer, TfidfTransformer,Randomforest classifier on bar dataset."
   ]
  },
  {
   "cell_type": "code",
   "execution_count": 51,
   "metadata": {},
   "outputs": [
    {
     "name": "stderr",
     "output_type": "stream",
     "text": [
      "/anaconda3/lib/python3.6/site-packages/sklearn/ensemble/forest.py:246: FutureWarning: The default value of n_estimators will change from 10 in version 0.20 to 100 in 0.22.\n",
      "  \"10 in version 0.20 to 100 in 0.22.\", FutureWarning)\n"
     ]
    }
   ],
   "source": [
    "rf_model_bar = pipeline.fit(X_trainres,y_trainres)"
   ]
  },
  {
   "cell_type": "code",
   "execution_count": 52,
   "metadata": {},
   "outputs": [],
   "source": [
    "predictions_bar = rf_model_bar.predict(X_testbar)\n",
    "rf_predictions_bar = predictions_bar"
   ]
  },
  {
   "cell_type": "code",
   "execution_count": 53,
   "metadata": {},
   "outputs": [
    {
     "name": "stdout",
     "output_type": "stream",
     "text": [
      "confusion matrix:\n",
      "[[118  78]\n",
      " [ 50 236]]\n",
      "\n",
      "\n",
      "____________________________________________________\n",
      "\n",
      "\n",
      "classification reprot:\n",
      "              precision    recall  f1-score   support\n",
      "\n",
      "           0       0.70      0.60      0.65       196\n",
      "           1       0.75      0.83      0.79       286\n",
      "\n",
      "   micro avg       0.73      0.73      0.73       482\n",
      "   macro avg       0.73      0.71      0.72       482\n",
      "weighted avg       0.73      0.73      0.73       482\n",
      "\n"
     ]
    }
   ],
   "source": [
    "print(\"confusion matrix:\")\n",
    "print(confusion_matrix(y_testbar,predictions_bar))\n",
    "print('\\n')\n",
    "print('____________________________________________________')\n",
    "print('\\n')\n",
    "print(\"classification reprot:\")\n",
    "print(classification_report(y_testbar,predictions_bar))"
   ]
  },
  {
   "cell_type": "markdown",
   "metadata": {},
   "source": [
    "#### (3.2).Using the pipline and CountVectorizer, TfidfTransformer,Randomforest classifier on restaurants dataset"
   ]
  },
  {
   "cell_type": "code",
   "execution_count": 54,
   "metadata": {},
   "outputs": [],
   "source": [
    "rf_model_res = pipeline.fit(X_trainres,y_trainres)"
   ]
  },
  {
   "cell_type": "code",
   "execution_count": 55,
   "metadata": {},
   "outputs": [],
   "source": [
    "predictions_res = rf_model_res.predict(X_testres)\n",
    "rf_predictions_res = predictions_res "
   ]
  },
  {
   "cell_type": "code",
   "execution_count": 56,
   "metadata": {},
   "outputs": [
    {
     "name": "stdout",
     "output_type": "stream",
     "text": [
      "confusion matrix:\n",
      "[[ 81  86]\n",
      " [ 39 270]]\n",
      "\n",
      "\n",
      "____________________________________________________\n",
      "\n",
      "\n",
      "classification reprot:\n",
      "              precision    recall  f1-score   support\n",
      "\n",
      "           0       0.68      0.49      0.56       167\n",
      "           1       0.76      0.87      0.81       309\n",
      "\n",
      "   micro avg       0.74      0.74      0.74       476\n",
      "   macro avg       0.72      0.68      0.69       476\n",
      "weighted avg       0.73      0.74      0.73       476\n",
      "\n"
     ]
    }
   ],
   "source": [
    "print(\"confusion matrix:\")\n",
    "print(confusion_matrix(y_testres,predictions_res))\n",
    "print('\\n')\n",
    "print('____________________________________________________')\n",
    "print('\\n')\n",
    "print(\"classification reprot:\")\n",
    "print(classification_report(y_testres,predictions_res))"
   ]
  },
  {
   "cell_type": "markdown",
   "metadata": {},
   "source": [
    "#### (3.3)Using the pipline and CountVectorizer, TfidfTransformer,Randomforest on a cross check."
   ]
  },
  {
   "cell_type": "code",
   "execution_count": 57,
   "metadata": {},
   "outputs": [],
   "source": [
    "# using the model train by bar data checking restaurant data\n",
    "predictions_barM_on_res = rf_model_bar.predict(X_testres)"
   ]
  },
  {
   "cell_type": "code",
   "execution_count": 58,
   "metadata": {},
   "outputs": [],
   "source": [
    "# using the model train by restaurant data checking bar data\n",
    "predictions_resM_on_bar = rf_model_res.predict(X_testbar)"
   ]
  },
  {
   "cell_type": "code",
   "execution_count": 59,
   "metadata": {},
   "outputs": [
    {
     "name": "stdout",
     "output_type": "stream",
     "text": [
      "using the model train by bar data checking restaurant data\n",
      "confusion matrix:\n",
      "[[ 81  86]\n",
      " [ 39 270]]\n",
      "\n",
      "\n",
      "____________________________________________________\n",
      "\n",
      "\n",
      "classification reprot:\n",
      "              precision    recall  f1-score   support\n",
      "\n",
      "           0       0.68      0.49      0.56       167\n",
      "           1       0.76      0.87      0.81       309\n",
      "\n",
      "   micro avg       0.74      0.74      0.74       476\n",
      "   macro avg       0.72      0.68      0.69       476\n",
      "weighted avg       0.73      0.74      0.73       476\n",
      "\n",
      "\n",
      "\n",
      "\n",
      "\n",
      "using the model train by restaurant data checking bar data\n",
      "confusion matrix:\n",
      "[[113  83]\n",
      " [ 31 255]]\n",
      "\n",
      "\n",
      "____________________________________________________\n",
      "\n",
      "\n",
      "classification reprot:\n",
      "              precision    recall  f1-score   support\n",
      "\n",
      "           0       0.78      0.58      0.66       196\n",
      "           1       0.75      0.89      0.82       286\n",
      "\n",
      "   micro avg       0.76      0.76      0.76       482\n",
      "   macro avg       0.77      0.73      0.74       482\n",
      "weighted avg       0.77      0.76      0.76       482\n",
      "\n"
     ]
    }
   ],
   "source": [
    "print(\"using the model train by bar data checking restaurant data\")\n",
    "print(\"confusion matrix:\")\n",
    "print(confusion_matrix(y_testres,predictions_barM_on_res))\n",
    "print('\\n')\n",
    "print('____________________________________________________')\n",
    "print('\\n')\n",
    "print(\"classification reprot:\")\n",
    "print(classification_report(y_testres,predictions_barM_on_res))\n",
    "print(\"\\n\")\n",
    "print(\"\\n\")\n",
    "\n",
    "print(\"using the model train by restaurant data checking bar data\")\n",
    "print(\"confusion matrix:\")\n",
    "print(confusion_matrix(y_testbar,predictions_resM_on_bar))\n",
    "print('\\n')\n",
    "print('____________________________________________________')\n",
    "print('\\n')\n",
    "print(\"classification reprot:\")\n",
    "print(classification_report(y_testbar,predictions_resM_on_bar))"
   ]
  },
  {
   "cell_type": "markdown",
   "metadata": {},
   "source": [
    "## 4.Using the pipline and CountVectorizer, TfidfTransformer,LogisticRegression classifier"
   ]
  },
  {
   "cell_type": "code",
   "execution_count": 60,
   "metadata": {},
   "outputs": [],
   "source": [
    "from sklearn.linear_model import LogisticRegression"
   ]
  },
  {
   "cell_type": "code",
   "execution_count": 61,
   "metadata": {},
   "outputs": [],
   "source": [
    "pipeline = Pipeline([\n",
    "    ('bow', CountVectorizer()),  # strings to token integer counts\n",
    "    ('tfidf', TfidfTransformer()),  # integer counts to weighted TF-IDF scores\n",
    "    ('classifier', LogisticRegression()),  # train on TF-IDF vectors w/ logisticregression classifier\n",
    "])"
   ]
  },
  {
   "cell_type": "markdown",
   "metadata": {},
   "source": [
    "#### (4.1).Using the pipline and CountVectorizer, TfidfTransformer,Logistic regression classifier on bar dataset."
   ]
  },
  {
   "cell_type": "code",
   "execution_count": 62,
   "metadata": {},
   "outputs": [
    {
     "name": "stderr",
     "output_type": "stream",
     "text": [
      "/anaconda3/lib/python3.6/site-packages/sklearn/linear_model/logistic.py:433: FutureWarning: Default solver will be changed to 'lbfgs' in 0.22. Specify a solver to silence this warning.\n",
      "  FutureWarning)\n"
     ]
    }
   ],
   "source": [
    "lr_model_bar = pipeline.fit(X_trainbar,y_trainbar)"
   ]
  },
  {
   "cell_type": "code",
   "execution_count": 63,
   "metadata": {},
   "outputs": [],
   "source": [
    "predictions_bar = lr_model_bar.predict(X_testbar)\n",
    "lr_predictions_bar = predictions_bar"
   ]
  },
  {
   "cell_type": "code",
   "execution_count": 64,
   "metadata": {},
   "outputs": [
    {
     "name": "stdout",
     "output_type": "stream",
     "text": [
      "confusion matrix:\n",
      "[[118  78]\n",
      " [ 11 275]]\n",
      "\n",
      "\n",
      "____________________________________________________\n",
      "\n",
      "\n",
      "classification reprot:\n",
      "              precision    recall  f1-score   support\n",
      "\n",
      "           0       0.91      0.60      0.73       196\n",
      "           1       0.78      0.96      0.86       286\n",
      "\n",
      "   micro avg       0.82      0.82      0.82       482\n",
      "   macro avg       0.85      0.78      0.79       482\n",
      "weighted avg       0.83      0.82      0.81       482\n",
      "\n"
     ]
    }
   ],
   "source": [
    "print(\"confusion matrix:\")\n",
    "print(confusion_matrix(y_testbar,predictions_bar))\n",
    "print('\\n')\n",
    "print('____________________________________________________')\n",
    "print('\\n')\n",
    "print(\"classification reprot:\")\n",
    "print(classification_report(y_testbar,predictions_bar))"
   ]
  },
  {
   "cell_type": "markdown",
   "metadata": {},
   "source": [
    "#### (4.2).Using the pipline and CountVectorizer, TfidfTransformer,Logistic regression classifier on restaurant dataset."
   ]
  },
  {
   "cell_type": "code",
   "execution_count": 65,
   "metadata": {},
   "outputs": [
    {
     "name": "stderr",
     "output_type": "stream",
     "text": [
      "/anaconda3/lib/python3.6/site-packages/sklearn/linear_model/logistic.py:433: FutureWarning: Default solver will be changed to 'lbfgs' in 0.22. Specify a solver to silence this warning.\n",
      "  FutureWarning)\n"
     ]
    }
   ],
   "source": [
    "lr_model_res = pipeline.fit(X_trainres,y_trainres)"
   ]
  },
  {
   "cell_type": "code",
   "execution_count": 66,
   "metadata": {},
   "outputs": [],
   "source": [
    "predictions_res = lr_model_res.predict(X_testres)\n",
    "lr_predictions_res = predictions_res"
   ]
  },
  {
   "cell_type": "code",
   "execution_count": 67,
   "metadata": {},
   "outputs": [
    {
     "name": "stdout",
     "output_type": "stream",
     "text": [
      "confusion matrix:\n",
      "[[ 88  79]\n",
      " [ 10 299]]\n",
      "\n",
      "\n",
      "____________________________________________________\n",
      "\n",
      "\n",
      "classification reprot:\n",
      "              precision    recall  f1-score   support\n",
      "\n",
      "           0       0.90      0.53      0.66       167\n",
      "           1       0.79      0.97      0.87       309\n",
      "\n",
      "   micro avg       0.81      0.81      0.81       476\n",
      "   macro avg       0.84      0.75      0.77       476\n",
      "weighted avg       0.83      0.81      0.80       476\n",
      "\n"
     ]
    }
   ],
   "source": [
    "print(\"confusion matrix:\")\n",
    "print(confusion_matrix(y_testres,predictions_res))\n",
    "print('\\n')\n",
    "print('____________________________________________________')\n",
    "print('\\n')\n",
    "print(\"classification reprot:\")\n",
    "print(classification_report(y_testres,predictions_res))"
   ]
  },
  {
   "cell_type": "markdown",
   "metadata": {},
   "source": [
    "#### (4.3).Using the pipline and CountVectorizer, TfidfTransformer,Logistic regression classifier on cross check."
   ]
  },
  {
   "cell_type": "code",
   "execution_count": 68,
   "metadata": {},
   "outputs": [],
   "source": [
    "# using the model train by bar data checking restaurant data\n",
    "predictions_barM_on_res = lr_model_bar.predict(X_testres)"
   ]
  },
  {
   "cell_type": "code",
   "execution_count": 69,
   "metadata": {},
   "outputs": [],
   "source": [
    "# using the model train by restaurant data checking bar data\n",
    "predictions_resM_on_bar = lr_model_res.predict(X_testbar)"
   ]
  },
  {
   "cell_type": "code",
   "execution_count": 70,
   "metadata": {},
   "outputs": [
    {
     "name": "stdout",
     "output_type": "stream",
     "text": [
      "using the model train by bar data checking restaurant data\n",
      "confusion matrix:\n",
      "[[ 88  79]\n",
      " [ 10 299]]\n",
      "\n",
      "\n",
      "____________________________________________________\n",
      "\n",
      "\n",
      "classification reprot:\n",
      "              precision    recall  f1-score   support\n",
      "\n",
      "           0       0.90      0.53      0.66       167\n",
      "           1       0.79      0.97      0.87       309\n",
      "\n",
      "   micro avg       0.81      0.81      0.81       476\n",
      "   macro avg       0.84      0.75      0.77       476\n",
      "weighted avg       0.83      0.81      0.80       476\n",
      "\n",
      "\n",
      "\n",
      "\n",
      "\n",
      "using the model train by restaurant data checking bar data\n",
      "confusion matrix:\n",
      "[[115  81]\n",
      " [  5 281]]\n",
      "\n",
      "\n",
      "____________________________________________________\n",
      "\n",
      "\n",
      "classification reprot:\n",
      "              precision    recall  f1-score   support\n",
      "\n",
      "           0       0.96      0.59      0.73       196\n",
      "           1       0.78      0.98      0.87       286\n",
      "\n",
      "   micro avg       0.82      0.82      0.82       482\n",
      "   macro avg       0.87      0.78      0.80       482\n",
      "weighted avg       0.85      0.82      0.81       482\n",
      "\n"
     ]
    }
   ],
   "source": [
    "print(\"using the model train by bar data checking restaurant data\")\n",
    "print(\"confusion matrix:\")\n",
    "print(confusion_matrix(y_testres,predictions_barM_on_res))\n",
    "print('\\n')\n",
    "print('____________________________________________________')\n",
    "print('\\n')\n",
    "print(\"classification reprot:\")\n",
    "print(classification_report(y_testres,predictions_barM_on_res))\n",
    "print(\"\\n\")\n",
    "print(\"\\n\")\n",
    "\n",
    "print(\"using the model train by restaurant data checking bar data\")\n",
    "print(\"confusion matrix:\")\n",
    "print(confusion_matrix(y_testbar,predictions_resM_on_bar))\n",
    "print('\\n')\n",
    "print('____________________________________________________')\n",
    "print('\\n')\n",
    "print(\"classification reprot:\")\n",
    "print(classification_report(y_testbar,predictions_resM_on_bar))"
   ]
  },
  {
   "cell_type": "markdown",
   "metadata": {},
   "source": [
    "## 5.Using the pipline and CountVectorizer, TfidfTransformer,linearRegression classifier"
   ]
  },
  {
   "cell_type": "code",
   "execution_count": 71,
   "metadata": {},
   "outputs": [],
   "source": [
    "from sklearn.linear_model import LinearRegression"
   ]
  },
  {
   "cell_type": "code",
   "execution_count": 72,
   "metadata": {},
   "outputs": [],
   "source": [
    "pipeline = Pipeline([\n",
    "    ('bow', CountVectorizer()),  # strings to token integer counts\n",
    "    ('tfidf', TfidfTransformer()),  # integer counts to weighted TF-IDF scores\n",
    "    ('classifier', LinearRegression()),  # train on TF-IDF vectors w/ linearRegression classifier\n",
    "])"
   ]
  },
  {
   "cell_type": "markdown",
   "metadata": {},
   "source": [
    "#### (5.1).Using the pipline and CountVectorizer, TfidfTransformer,linearRegression classifier on bar dataset."
   ]
  },
  {
   "cell_type": "code",
   "execution_count": 73,
   "metadata": {},
   "outputs": [],
   "source": [
    "lm_model_bar = pipeline.fit(X_trainbar,y_trainbar)"
   ]
  },
  {
   "cell_type": "code",
   "execution_count": 74,
   "metadata": {},
   "outputs": [],
   "source": [
    "#round out the number to integer\n",
    "predictions_bar = np.round_(lm_model_bar.predict(X_testbar))\n",
    "lm_predictions_bar = predictions_bar"
   ]
  },
  {
   "cell_type": "code",
   "execution_count": 75,
   "metadata": {},
   "outputs": [
    {
     "name": "stdout",
     "output_type": "stream",
     "text": [
      "confusion matrix:\n",
      "[[  0   0   0   0]\n",
      " [  1 146  49   0]\n",
      " [  0  33 252   1]\n",
      " [  0   0   0   0]]\n",
      "\n",
      "\n",
      "____________________________________________________\n",
      "\n",
      "\n",
      "classification reprot:\n",
      "              precision    recall  f1-score   support\n",
      "\n",
      "        -1.0       0.00      0.00      0.00         0\n",
      "         0.0       0.82      0.74      0.78       196\n",
      "         1.0       0.84      0.88      0.86       286\n",
      "         2.0       0.00      0.00      0.00         0\n",
      "\n",
      "   micro avg       0.83      0.83      0.83       482\n",
      "   macro avg       0.41      0.41      0.41       482\n",
      "weighted avg       0.83      0.83      0.83       482\n",
      "\n"
     ]
    },
    {
     "name": "stderr",
     "output_type": "stream",
     "text": [
      "/anaconda3/lib/python3.6/site-packages/sklearn/metrics/classification.py:1145: UndefinedMetricWarning: Recall and F-score are ill-defined and being set to 0.0 in labels with no true samples.\n",
      "  'recall', 'true', average, warn_for)\n"
     ]
    }
   ],
   "source": [
    "print(\"confusion matrix:\")\n",
    "print(confusion_matrix(y_testbar,predictions_bar))\n",
    "print('\\n')\n",
    "print('____________________________________________________')\n",
    "print('\\n')\n",
    "print(\"classification reprot:\")\n",
    "print(classification_report(y_testbar,predictions_bar))"
   ]
  },
  {
   "cell_type": "markdown",
   "metadata": {},
   "source": [
    "#### (5.2).Using the pipline and CountVectorizer, TfidfTransformer,linearRegression classifier on Restaurant dataset."
   ]
  },
  {
   "cell_type": "code",
   "execution_count": 76,
   "metadata": {},
   "outputs": [],
   "source": [
    "lm_model_res = pipeline.fit(X_trainres,y_trainres)"
   ]
  },
  {
   "cell_type": "code",
   "execution_count": 77,
   "metadata": {},
   "outputs": [],
   "source": [
    "#round out the number to integer\n",
    "predictions_res = np.round_(lm_model_res.predict(X_testres))\n",
    "lm_predictions_res = predictions_res"
   ]
  },
  {
   "cell_type": "code",
   "execution_count": 78,
   "metadata": {},
   "outputs": [
    {
     "name": "stdout",
     "output_type": "stream",
     "text": [
      "confusion matrix:\n",
      "[[114  53   0]\n",
      " [ 25 280   4]\n",
      " [  0   0   0]]\n",
      "\n",
      "\n",
      "____________________________________________________\n",
      "\n",
      "\n",
      "classification reprot:\n",
      "              precision    recall  f1-score   support\n",
      "\n",
      "         0.0       0.82      0.68      0.75       167\n",
      "         1.0       0.84      0.91      0.87       309\n",
      "         2.0       0.00      0.00      0.00         0\n",
      "\n",
      "   micro avg       0.83      0.83      0.83       476\n",
      "   macro avg       0.55      0.53      0.54       476\n",
      "weighted avg       0.83      0.83      0.83       476\n",
      "\n"
     ]
    },
    {
     "name": "stderr",
     "output_type": "stream",
     "text": [
      "/anaconda3/lib/python3.6/site-packages/sklearn/metrics/classification.py:1145: UndefinedMetricWarning: Recall and F-score are ill-defined and being set to 0.0 in labels with no true samples.\n",
      "  'recall', 'true', average, warn_for)\n"
     ]
    }
   ],
   "source": [
    "print(\"confusion matrix:\")\n",
    "print(confusion_matrix(y_testres,predictions_res))\n",
    "print('\\n')\n",
    "print('____________________________________________________')\n",
    "print('\\n')\n",
    "print(\"classification reprot:\")\n",
    "print(classification_report(y_testres,predictions_res))"
   ]
  },
  {
   "cell_type": "markdown",
   "metadata": {},
   "source": [
    "#### (5.3).Using the pipline and CountVectorizer, TfidfTransformer,Linear regression classifier on cross check."
   ]
  },
  {
   "cell_type": "code",
   "execution_count": 79,
   "metadata": {},
   "outputs": [],
   "source": [
    "# using the model train by bar data checking restaurant data\n",
    "predictions_barM_on_res = np.round_(lm_model_bar.predict(X_testres))"
   ]
  },
  {
   "cell_type": "code",
   "execution_count": 80,
   "metadata": {},
   "outputs": [],
   "source": [
    "# using the model train by restaurant data checking bar data\n",
    "predictions_resM_on_bar = np.round_(lm_model_res.predict(X_testbar))"
   ]
  },
  {
   "cell_type": "code",
   "execution_count": 81,
   "metadata": {},
   "outputs": [
    {
     "name": "stdout",
     "output_type": "stream",
     "text": [
      "using the model train by bar data checking restaurant data\n",
      "confusion matrix:\n",
      "[[114  53   0]\n",
      " [ 25 280   4]\n",
      " [  0   0   0]]\n",
      "\n",
      "\n",
      "____________________________________________________\n",
      "\n",
      "\n",
      "classification reprot:\n",
      "              precision    recall  f1-score   support\n",
      "\n",
      "         0.0       0.82      0.68      0.75       167\n",
      "         1.0       0.84      0.91      0.87       309\n",
      "         2.0       0.00      0.00      0.00         0\n",
      "\n",
      "   micro avg       0.83      0.83      0.83       476\n",
      "   macro avg       0.55      0.53      0.54       476\n",
      "weighted avg       0.83      0.83      0.83       476\n",
      "\n",
      "\n",
      "\n",
      "\n",
      "\n",
      "using the model train by restaurant data checking bar data\n",
      "confusion matrix:\n",
      "[[  0   0   0   0]\n",
      " [  1 148  47   0]\n",
      " [  0  31 252   3]\n",
      " [  0   0   0   0]]\n",
      "\n",
      "\n",
      "____________________________________________________\n",
      "\n",
      "\n",
      "classification reprot:\n",
      "              precision    recall  f1-score   support\n",
      "\n",
      "        -1.0       0.00      0.00      0.00         0\n",
      "         0.0       0.83      0.76      0.79       196\n",
      "         1.0       0.84      0.88      0.86       286\n",
      "         2.0       0.00      0.00      0.00         0\n",
      "\n",
      "   micro avg       0.83      0.83      0.83       482\n",
      "   macro avg       0.42      0.41      0.41       482\n",
      "weighted avg       0.84      0.83      0.83       482\n",
      "\n"
     ]
    },
    {
     "name": "stderr",
     "output_type": "stream",
     "text": [
      "/anaconda3/lib/python3.6/site-packages/sklearn/metrics/classification.py:1145: UndefinedMetricWarning: Recall and F-score are ill-defined and being set to 0.0 in labels with no true samples.\n",
      "  'recall', 'true', average, warn_for)\n"
     ]
    }
   ],
   "source": [
    "print(\"using the model train by bar data checking restaurant data\")\n",
    "print(\"confusion matrix:\")\n",
    "print(confusion_matrix(y_testres,predictions_barM_on_res))\n",
    "print('\\n')\n",
    "print('____________________________________________________')\n",
    "print('\\n')\n",
    "print(\"classification reprot:\")\n",
    "print(classification_report(y_testres,predictions_barM_on_res))\n",
    "print(\"\\n\")\n",
    "print(\"\\n\")\n",
    "\n",
    "print(\"using the model train by restaurant data checking bar data\")\n",
    "print(\"confusion matrix:\")\n",
    "print(confusion_matrix(y_testbar,predictions_resM_on_bar))\n",
    "print('\\n')\n",
    "print('____________________________________________________')\n",
    "print('\\n')\n",
    "print(\"classification reprot:\")\n",
    "print(classification_report(y_testbar,predictions_resM_on_bar))"
   ]
  },
  {
   "cell_type": "markdown",
   "metadata": {},
   "source": [
    "## 6.Using the pipline and CountVectorizer, TfidfTransformer,SVM classifier"
   ]
  },
  {
   "cell_type": "code",
   "execution_count": 82,
   "metadata": {},
   "outputs": [],
   "source": [
    "from sklearn.svm import SVC"
   ]
  },
  {
   "cell_type": "code",
   "execution_count": 83,
   "metadata": {},
   "outputs": [],
   "source": [
    "pipeline = Pipeline([\n",
    "    ('bow', CountVectorizer()),  # strings to token integer counts\n",
    "    ('tfidf', TfidfTransformer()),  # integer counts to weighted TF-IDF scores\n",
    "    ('classifier', SVC()),  # train on TF-IDF vectors w/ SVC classifier\n",
    "])"
   ]
  },
  {
   "cell_type": "markdown",
   "metadata": {},
   "source": [
    "#### (6.1).Using the pipline and CountVectorizer, TfidfTransformer,SVM on bar dataset."
   ]
  },
  {
   "cell_type": "code",
   "execution_count": 84,
   "metadata": {},
   "outputs": [
    {
     "name": "stderr",
     "output_type": "stream",
     "text": [
      "/anaconda3/lib/python3.6/site-packages/sklearn/svm/base.py:196: FutureWarning: The default value of gamma will change from 'auto' to 'scale' in version 0.22 to account better for unscaled features. Set gamma explicitly to 'auto' or 'scale' to avoid this warning.\n",
      "  \"avoid this warning.\", FutureWarning)\n"
     ]
    }
   ],
   "source": [
    "svm_model_bar = pipeline.fit(X_trainbar,y_trainbar)"
   ]
  },
  {
   "cell_type": "code",
   "execution_count": 85,
   "metadata": {},
   "outputs": [],
   "source": [
    "predictions_bar = svm_model_bar.predict(X_testbar)\n",
    "svm_predictions_bar = predictions_bar"
   ]
  },
  {
   "cell_type": "code",
   "execution_count": 86,
   "metadata": {},
   "outputs": [
    {
     "name": "stdout",
     "output_type": "stream",
     "text": [
      "confusion matrix:\n",
      "[[  0 196]\n",
      " [  0 286]]\n",
      "\n",
      "\n",
      "____________________________________________________\n",
      "\n",
      "\n",
      "classification reprot:\n",
      "              precision    recall  f1-score   support\n",
      "\n",
      "           0       0.00      0.00      0.00       196\n",
      "           1       0.59      1.00      0.74       286\n",
      "\n",
      "   micro avg       0.59      0.59      0.59       482\n",
      "   macro avg       0.30      0.50      0.37       482\n",
      "weighted avg       0.35      0.59      0.44       482\n",
      "\n"
     ]
    },
    {
     "name": "stderr",
     "output_type": "stream",
     "text": [
      "/anaconda3/lib/python3.6/site-packages/sklearn/metrics/classification.py:1143: UndefinedMetricWarning: Precision and F-score are ill-defined and being set to 0.0 in labels with no predicted samples.\n",
      "  'precision', 'predicted', average, warn_for)\n"
     ]
    }
   ],
   "source": [
    "print(\"confusion matrix:\")\n",
    "print(confusion_matrix(y_testbar,predictions_bar))\n",
    "print('\\n')\n",
    "print('____________________________________________________')\n",
    "print('\\n')\n",
    "print(\"classification reprot:\")\n",
    "print(classification_report(y_testbar,predictions_bar))"
   ]
  },
  {
   "cell_type": "markdown",
   "metadata": {},
   "source": [
    "#### (6.2).Using the pipline and CountVectorizer, TfidfTransformer,SVM on restaurant dataset."
   ]
  },
  {
   "cell_type": "code",
   "execution_count": 87,
   "metadata": {},
   "outputs": [
    {
     "name": "stderr",
     "output_type": "stream",
     "text": [
      "/anaconda3/lib/python3.6/site-packages/sklearn/svm/base.py:196: FutureWarning: The default value of gamma will change from 'auto' to 'scale' in version 0.22 to account better for unscaled features. Set gamma explicitly to 'auto' or 'scale' to avoid this warning.\n",
      "  \"avoid this warning.\", FutureWarning)\n"
     ]
    }
   ],
   "source": [
    "svm_model_res = pipeline.fit(X_trainres,y_trainres)"
   ]
  },
  {
   "cell_type": "code",
   "execution_count": 88,
   "metadata": {},
   "outputs": [],
   "source": [
    "predictions_res = svm_model_res.predict(X_testres)\n",
    "svm_predictions_res = predictions_res"
   ]
  },
  {
   "cell_type": "code",
   "execution_count": 89,
   "metadata": {},
   "outputs": [
    {
     "name": "stdout",
     "output_type": "stream",
     "text": [
      "confusion matrix:\n",
      "[[  0 167]\n",
      " [  0 309]]\n",
      "\n",
      "\n",
      "____________________________________________________\n",
      "\n",
      "\n",
      "classification reprot:\n",
      "              precision    recall  f1-score   support\n",
      "\n",
      "           0       0.00      0.00      0.00       167\n",
      "           1       0.65      1.00      0.79       309\n",
      "\n",
      "   micro avg       0.65      0.65      0.65       476\n",
      "   macro avg       0.32      0.50      0.39       476\n",
      "weighted avg       0.42      0.65      0.51       476\n",
      "\n"
     ]
    },
    {
     "name": "stderr",
     "output_type": "stream",
     "text": [
      "/anaconda3/lib/python3.6/site-packages/sklearn/metrics/classification.py:1143: UndefinedMetricWarning: Precision and F-score are ill-defined and being set to 0.0 in labels with no predicted samples.\n",
      "  'precision', 'predicted', average, warn_for)\n"
     ]
    }
   ],
   "source": [
    "print(\"confusion matrix:\")\n",
    "print(confusion_matrix(y_testres,predictions_res))\n",
    "print('\\n')\n",
    "print('____________________________________________________')\n",
    "print('\\n')\n",
    "print(\"classification reprot:\")\n",
    "print(classification_report(y_testres,predictions_res))"
   ]
  },
  {
   "cell_type": "markdown",
   "metadata": {},
   "source": [
    "#### (6.3).Using the pipline and CountVectorizer, TfidfTransformer,SVM classifier on cross check."
   ]
  },
  {
   "cell_type": "code",
   "execution_count": 90,
   "metadata": {},
   "outputs": [],
   "source": [
    "# using the model train by bar data checking restaurant data\n",
    "predictions_barM_on_res = svm_model_bar.predict(X_testres)"
   ]
  },
  {
   "cell_type": "code",
   "execution_count": 91,
   "metadata": {},
   "outputs": [],
   "source": [
    "# using the model train by restaurant data checking bar data\n",
    "predictions_resM_on_bar = svm_model_res.predict(X_testbar)"
   ]
  },
  {
   "cell_type": "code",
   "execution_count": 92,
   "metadata": {},
   "outputs": [
    {
     "name": "stdout",
     "output_type": "stream",
     "text": [
      "using the model train by bar data checking restaurant data\n",
      "confusion matrix:\n",
      "[[  0 167]\n",
      " [  0 309]]\n",
      "\n",
      "\n",
      "____________________________________________________\n",
      "\n",
      "\n",
      "classification reprot:\n",
      "              precision    recall  f1-score   support\n",
      "\n",
      "           0       0.00      0.00      0.00       167\n",
      "           1       0.65      1.00      0.79       309\n",
      "\n",
      "   micro avg       0.65      0.65      0.65       476\n",
      "   macro avg       0.32      0.50      0.39       476\n",
      "weighted avg       0.42      0.65      0.51       476\n",
      "\n",
      "\n",
      "\n",
      "\n",
      "\n",
      "using the model train by restaurant data checking bar data\n",
      "confusion matrix:\n",
      "[[  0 196]\n",
      " [  0 286]]\n",
      "\n",
      "\n",
      "____________________________________________________\n",
      "\n",
      "\n",
      "classification reprot:\n",
      "              precision    recall  f1-score   support\n",
      "\n",
      "           0       0.00      0.00      0.00       196\n",
      "           1       0.59      1.00      0.74       286\n",
      "\n",
      "   micro avg       0.59      0.59      0.59       482\n",
      "   macro avg       0.30      0.50      0.37       482\n",
      "weighted avg       0.35      0.59      0.44       482\n",
      "\n"
     ]
    },
    {
     "name": "stderr",
     "output_type": "stream",
     "text": [
      "/anaconda3/lib/python3.6/site-packages/sklearn/metrics/classification.py:1143: UndefinedMetricWarning: Precision and F-score are ill-defined and being set to 0.0 in labels with no predicted samples.\n",
      "  'precision', 'predicted', average, warn_for)\n"
     ]
    }
   ],
   "source": [
    "print(\"using the model train by bar data checking restaurant data\")\n",
    "print(\"confusion matrix:\")\n",
    "print(confusion_matrix(y_testres,predictions_barM_on_res))\n",
    "print('\\n')\n",
    "print('____________________________________________________')\n",
    "print('\\n')\n",
    "print(\"classification reprot:\")\n",
    "print(classification_report(y_testres,predictions_barM_on_res))\n",
    "print(\"\\n\")\n",
    "print(\"\\n\")\n",
    "\n",
    "print(\"using the model train by restaurant data checking bar data\")\n",
    "print(\"confusion matrix:\")\n",
    "print(confusion_matrix(y_testbar,predictions_resM_on_bar))\n",
    "print('\\n')\n",
    "print('____________________________________________________')\n",
    "print('\\n')\n",
    "print(\"classification reprot:\")\n",
    "print(classification_report(y_testbar,predictions_resM_on_bar))"
   ]
  },
  {
   "cell_type": "markdown",
   "metadata": {},
   "source": [
    "## 7.Using the pipline and CountVectorizer, TfidfTransformer, KNeighbors classifier"
   ]
  },
  {
   "cell_type": "code",
   "execution_count": 93,
   "metadata": {},
   "outputs": [],
   "source": [
    "from sklearn.neighbors import KNeighborsClassifier"
   ]
  },
  {
   "cell_type": "markdown",
   "metadata": {},
   "source": [
    "#### (7.1).Using pipline,countvectorizer TfidfTransformer, KNeighbors classifier and choosing the proper K value fit for bar datasets"
   ]
  },
  {
   "cell_type": "code",
   "execution_count": 94,
   "metadata": {},
   "outputs": [],
   "source": [
    "error_rate = []\n",
    "\n",
    "# setting the k from 1 to 40\n",
    "for i in range(1,40):\n",
    "    pipeline = Pipeline([\n",
    "    ('bow', CountVectorizer()),  # strings to token integer counts\n",
    "    ('tfidf', TfidfTransformer()),  # integer counts to weighted TF-IDF scores\n",
    "    ('classifier', KNeighborsClassifier(n_neighbors=i)),  # train on TF-IDF vectors w/ knn classifier\n",
    "])\n",
    "    knn = pipeline.fit(X_trainbar,y_trainbar)\n",
    "    pred_i = knn.predict(X_testbar)\n",
    "    error_rate.append(np.mean(pred_i != y_testbar))"
   ]
  },
  {
   "cell_type": "code",
   "execution_count": 95,
   "metadata": {},
   "outputs": [
    {
     "data": {
      "text/plain": [
       "Text(0, 0.5, 'Error Rate')"
      ]
     },
     "execution_count": 95,
     "metadata": {},
     "output_type": "execute_result"
    },
    {
     "data": {
      "image/png": "[encoded data removed]",
      "text/plain": [
       "<Figure size 720x432 with 1 Axes>"
      ]
     },
     "metadata": {},
     "output_type": "display_data"
    }
   ],
   "source": [
    "plt.figure(figsize=(10,6))\n",
    "plt.plot(range(1,40),error_rate,color='red', linestyle='dashed', marker='o',\n",
    "         markerfacecolor='green', markersize=10)\n",
    "plt.title('Error Rate vs. K Value on bar dataset')\n",
    "plt.xlabel('K')\n",
    "plt.ylabel('Error Rate')"
   ]
  },
  {
   "cell_type": "markdown",
   "metadata": {},
   "source": [
    "#### from the graph we choose k = 21 as the most precise model"
   ]
  },
  {
   "cell_type": "code",
   "execution_count": 96,
   "metadata": {},
   "outputs": [],
   "source": [
    "pipeline = Pipeline([\n",
    "    ('bow', CountVectorizer()),  # strings to token integer counts\n",
    "    ('tfidf', TfidfTransformer()),  # integer counts to weighted TF-IDF scores\n",
    "    ('classifier', KNeighborsClassifier(n_neighbors=21)),  # train on TF-IDF vectors w/ knn classifier\n",
    "])"
   ]
  },
  {
   "cell_type": "code",
   "execution_count": 97,
   "metadata": {},
   "outputs": [],
   "source": [
    "knn_model_bar = pipeline.fit(X_trainbar,y_trainbar)"
   ]
  },
  {
   "cell_type": "code",
   "execution_count": 98,
   "metadata": {},
   "outputs": [],
   "source": [
    "predictions_bar = knn_model_bar.predict(X_testbar)\n",
    "knn_predictions_bar = predictions_bar"
   ]
  },
  {
   "cell_type": "code",
   "execution_count": 99,
   "metadata": {},
   "outputs": [
    {
     "name": "stdout",
     "output_type": "stream",
     "text": [
      "confusion matrix:\n",
      "[[145  51]\n",
      " [ 63 223]]\n",
      "\n",
      "\n",
      "____________________________________________________\n",
      "\n",
      "\n",
      "classification reprot:\n",
      "              precision    recall  f1-score   support\n",
      "\n",
      "           0       0.70      0.74      0.72       196\n",
      "           1       0.81      0.78      0.80       286\n",
      "\n",
      "   micro avg       0.76      0.76      0.76       482\n",
      "   macro avg       0.76      0.76      0.76       482\n",
      "weighted avg       0.77      0.76      0.76       482\n",
      "\n"
     ]
    }
   ],
   "source": [
    "print(\"confusion matrix:\")\n",
    "print(confusion_matrix(y_testbar,predictions_bar))\n",
    "print('\\n')\n",
    "print('____________________________________________________')\n",
    "print('\\n')\n",
    "print(\"classification reprot:\")\n",
    "print(classification_report(y_testbar,predictions_bar))"
   ]
  },
  {
   "cell_type": "markdown",
   "metadata": {},
   "source": [
    "#### (7.2).Using pipline,countvectorizer TfidfTransformer, KNeighbors classifier and choosing the proper K value fit for restaurant datasets"
   ]
  },
  {
   "cell_type": "code",
   "execution_count": 100,
   "metadata": {},
   "outputs": [],
   "source": [
    "error_rate = []\n",
    "\n",
    "# setting the k from 1 to 40\n",
    "for i in range(1,40):\n",
    "    pipeline = Pipeline([\n",
    "    ('bow', CountVectorizer()),  # strings to token integer counts\n",
    "    ('tfidf', TfidfTransformer()),  # integer counts to weighted TF-IDF scores\n",
    "    ('classifier', KNeighborsClassifier(n_neighbors=i)),  # train on TF-IDF vectors w/ knn classifier\n",
    "])\n",
    "    knn = pipeline.fit(X_trainres,y_trainres)\n",
    "    pred_i = knn.predict(X_testres)\n",
    "    error_rate.append(np.mean(pred_i != y_testres))"
   ]
  },
  {
   "cell_type": "code",
   "execution_count": 101,
   "metadata": {},
   "outputs": [
    {
     "data": {
      "text/plain": [
       "Text(0, 0.5, 'Error Rate')"
      ]
     },
     "execution_count": 101,
     "metadata": {},
     "output_type": "execute_result"
    },
    {
     "data": {
      "image/png": "[encoded data removed]",
      "text/plain": [
       "<Figure size 720x432 with 1 Axes>"
      ]
     },
     "metadata": {},
     "output_type": "display_data"
    }
   ],
   "source": [
    "plt.figure(figsize=(10,6))\n",
    "plt.plot(range(1,40),error_rate,color='red', linestyle='dashed', marker='o',\n",
    "         markerfacecolor='green', markersize=10)\n",
    "plt.title('Error Rate vs. K Value on restaurant dataset')\n",
    "plt.xlabel('K')\n",
    "plt.ylabel('Error Rate')"
   ]
  },
  {
   "cell_type": "markdown",
   "metadata": {},
   "source": [
    "#### from the graph we choose k = 20 as the most precise model"
   ]
  },
  {
   "cell_type": "code",
   "execution_count": 102,
   "metadata": {},
   "outputs": [],
   "source": [
    "pipeline = Pipeline([\n",
    "    ('bow', CountVectorizer()),  # strings to token integer counts\n",
    "    ('tfidf', TfidfTransformer()),  # integer counts to weighted TF-IDF scores\n",
    "    ('classifier', KNeighborsClassifier(n_neighbors=20)),  # train on TF-IDF vectors w/ knn classifier\n",
    "])"
   ]
  },
  {
   "cell_type": "code",
   "execution_count": 103,
   "metadata": {},
   "outputs": [],
   "source": [
    "knn_model_res = pipeline.fit(X_trainres,y_trainres)"
   ]
  },
  {
   "cell_type": "code",
   "execution_count": 104,
   "metadata": {},
   "outputs": [],
   "source": [
    "predictions_res = knn_model_res.predict(X_testres)\n",
    "knn_predictions_res = predictions_res"
   ]
  },
  {
   "cell_type": "code",
   "execution_count": 105,
   "metadata": {},
   "outputs": [
    {
     "name": "stdout",
     "output_type": "stream",
     "text": [
      "confusion matrix:\n",
      "[[120  47]\n",
      " [ 58 251]]\n",
      "\n",
      "\n",
      "____________________________________________________\n",
      "\n",
      "\n",
      "classification reprot:\n",
      "              precision    recall  f1-score   support\n",
      "\n",
      "           0       0.67      0.72      0.70       167\n",
      "           1       0.84      0.81      0.83       309\n",
      "\n",
      "   micro avg       0.78      0.78      0.78       476\n",
      "   macro avg       0.76      0.77      0.76       476\n",
      "weighted avg       0.78      0.78      0.78       476\n",
      "\n"
     ]
    }
   ],
   "source": [
    "print(\"confusion matrix:\")\n",
    "print(confusion_matrix(y_testres,predictions_res))\n",
    "print('\\n')\n",
    "print('____________________________________________________')\n",
    "print('\\n')\n",
    "print(\"classification reprot:\")\n",
    "print(classification_report(y_testres,predictions_res))"
   ]
  },
  {
   "cell_type": "markdown",
   "metadata": {},
   "source": [
    "#### (7.3).Using the pipline and CountVectorizer, TfidfTransformer,KNeighbour classifier on cross check."
   ]
  },
  {
   "cell_type": "code",
   "execution_count": 106,
   "metadata": {},
   "outputs": [],
   "source": [
    "# using the model train by bar data checking restaurant data\n",
    "predictions_barM_on_res = knn_model_bar.predict(X_testres)"
   ]
  },
  {
   "cell_type": "code",
   "execution_count": 107,
   "metadata": {},
   "outputs": [],
   "source": [
    "# using the model train by restaurant data checking bar data\n",
    "predictions_resM_on_bar = knn_model_res.predict(X_testbar)"
   ]
  },
  {
   "cell_type": "code",
   "execution_count": 108,
   "metadata": {},
   "outputs": [
    {
     "name": "stdout",
     "output_type": "stream",
     "text": [
      "using the model train by bar data checking restaurant data\n",
      "confusion matrix:\n",
      "[[135  32]\n",
      " [ 87 222]]\n",
      "\n",
      "\n",
      "____________________________________________________\n",
      "\n",
      "\n",
      "classification reprot:\n",
      "              precision    recall  f1-score   support\n",
      "\n",
      "           0       0.61      0.81      0.69       167\n",
      "           1       0.87      0.72      0.79       309\n",
      "\n",
      "   micro avg       0.75      0.75      0.75       476\n",
      "   macro avg       0.74      0.76      0.74       476\n",
      "weighted avg       0.78      0.75      0.76       476\n",
      "\n",
      "\n",
      "\n",
      "\n",
      "\n",
      "using the model train by restaurant data checking bar data\n",
      "confusion matrix:\n",
      "[[172  24]\n",
      " [ 78 208]]\n",
      "\n",
      "\n",
      "____________________________________________________\n",
      "\n",
      "\n",
      "classification reprot:\n",
      "              precision    recall  f1-score   support\n",
      "\n",
      "           0       0.69      0.88      0.77       196\n",
      "           1       0.90      0.73      0.80       286\n",
      "\n",
      "   micro avg       0.79      0.79      0.79       482\n",
      "   macro avg       0.79      0.80      0.79       482\n",
      "weighted avg       0.81      0.79      0.79       482\n",
      "\n"
     ]
    }
   ],
   "source": [
    "print(\"using the model train by bar data checking restaurant data\")\n",
    "print(\"confusion matrix:\")\n",
    "print(confusion_matrix(y_testres,predictions_barM_on_res))\n",
    "print('\\n')\n",
    "print('____________________________________________________')\n",
    "print('\\n')\n",
    "print(\"classification reprot:\")\n",
    "print(classification_report(y_testres,predictions_barM_on_res))\n",
    "print(\"\\n\")\n",
    "print(\"\\n\")\n",
    "\n",
    "print(\"using the model train by restaurant data checking bar data\")\n",
    "print(\"confusion matrix:\")\n",
    "print(confusion_matrix(y_testbar,predictions_resM_on_bar))\n",
    "print('\\n')\n",
    "print('____________________________________________________')\n",
    "print('\\n')\n",
    "print(\"classification reprot:\")\n",
    "print(classification_report(y_testbar,predictions_resM_on_bar))"
   ]
  },
  {
   "cell_type": "markdown",
   "metadata": {},
   "source": [
    "## 8.plot the heatmap and give the conclusion"
   ]
  },
  {
   "cell_type": "code",
   "execution_count": 109,
   "metadata": {},
   "outputs": [],
   "source": [
    "df_bar_result = pd.DataFrame({'originoal_text_data': y_testbar,\n",
    "                        'nb_prediction': nb_predictions_bar,\n",
    "                        'rf_prediction': rf_predictions_bar,\n",
    "                        'lr_prediction': lr_predictions_bar,\n",
    "                        'lm_prediction': lm_predictions_bar,\n",
    "                        'svm_prediction': svm_predictions_bar,\n",
    "                        'knn_prediction': knn_predictions_bar,     \n",
    "                        })\n"
   ]
  },
  {
   "cell_type": "code",
   "execution_count": 110,
   "metadata": {},
   "outputs": [],
   "source": [
    "df_restaurant_result = pd.DataFrame({'originoal_text_data': y_testres,\n",
    "                        'nb_prediction': nb_predictions_res,\n",
    "                        'rf_prediction': rf_predictions_res,\n",
    "                        'lr_prediction': lr_predictions_res,\n",
    "                        'lm_prediction': lm_predictions_res,\n",
    "                        'svm_prediction': svm_predictions_res,\n",
    "                        'knn_prediction': knn_predictions_res,     \n",
    "                        })\n"
   ]
  },
  {
   "cell_type": "code",
   "execution_count": 111,
   "metadata": {},
   "outputs": [
    {
     "data": {
      "text/plain": [
       "<matplotlib.axes._subplots.AxesSubplot at 0x1a2978b160>"
      ]
     },
     "execution_count": 111,
     "metadata": {},
     "output_type": "execute_result"
    },
    {
     "data": {
      "image/png": "[encoded data removed]",
      "text/plain": [
       "<Figure size 432x288 with 2 Axes>"
      ]
     },
     "metadata": {},
     "output_type": "display_data"
    }
   ],
   "source": [
    "sns.heatmap(df_bar_result.corr(),cmap='coolwarm',annot=True)"
   ]
  },
  {
   "cell_type": "code",
   "execution_count": 112,
   "metadata": {},
   "outputs": [
    {
     "data": {
      "text/plain": [
       "<matplotlib.axes._subplots.AxesSubplot at 0x1a27a90b38>"
      ]
     },
     "execution_count": 112,
     "metadata": {},
     "output_type": "execute_result"
    },
    {
     "data": {
      "image/png": "[encoded data removed]",
      "text/plain": [
       "<Figure size 432x288 with 2 Axes>"
      ]
     },
     "metadata": {},
     "output_type": "display_data"
    }
   ],
   "source": [
    "sns.heatmap(df_restaurant_result.corr(),cmap='coolwarm',annot=True)"
   ]
  },
  {
   "cell_type": "markdown",
   "metadata": {},
   "source": [
    "### (1) I am using 6 different classifiers to predict the reviewer's attitute on bars and restaurants \n",
    "### (2) across all those classifiers, the linear regression model tend to have the best result on both datasets (both showed in the classification report and heatmap)\n",
    "### (3) the svm model tend to have the worest result on both datasets, the precision is below 50% basially classify all the data into the same category .\n",
    "### (4) further steps can be taken to conduct better result like creating a custom analyzer( normalize the text)."
   ]
  },
  {
   "cell_type": "markdown",
   "metadata": {},
   "source": [
    "# (IV)put the two different scraped datasets into csv file."
   ]
  },
  {
   "cell_type": "code",
   "execution_count": 181,
   "metadata": {},
   "outputs": [],
   "source": [
    "df_bar.to_csv('bar.csv',index=False)"
   ]
  },
  {
   "cell_type": "code",
   "execution_count": 182,
   "metadata": {},
   "outputs": [],
   "source": [
    "df_restaurant.to_csv('restaurant.csv',index=False)"
   ]
  }
 ],
 "metadata": {
  "kernelspec": {
   "display_name": "Python 3",
   "language": "python",
   "name": "python3"
  },
  "language_info": {
   "codemirror_mode": {
    "name": "ipython",
    "version": 3
   },
   "file_extension": ".py",
   "mimetype": "text/x-python",
   "name": "python",
   "nbconvert_exporter": "python",
   "pygments_lexer": "ipython3",
   "version": "3.6.4"
  }
 },
 "nbformat": 4,
 "nbformat_minor": 2
}
